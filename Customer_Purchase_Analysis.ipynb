{
  "nbformat": 4,
  "nbformat_minor": 0,
  "metadata": {
    "colab": {
      "provenance": []
    },
    "kernelspec": {
      "name": "python3",
      "display_name": "Python 3"
    },
    "language_info": {
      "name": "python"
    }
  },
  "cells": [
    {
      "cell_type": "code",
      "execution_count": 1,
      "metadata": {
        "colab": {
          "base_uri": "https://localhost:8080/",
          "height": 108
        },
        "id": "tK3XF6K1lLtg",
        "outputId": "c47f5a75-c5fc-4024-a9d6-7b613de82264"
      },
      "outputs": [
        {
          "output_type": "display_data",
          "data": {
            "text/plain": [
              "<IPython.core.display.HTML object>"
            ],
            "text/html": [
              "\n",
              "     <input type=\"file\" id=\"files-a56871e5-61d4-4e6c-804c-ae1f8c1e292a\" name=\"files[]\" multiple disabled\n",
              "        style=\"border:none\" />\n",
              "     <output id=\"result-a56871e5-61d4-4e6c-804c-ae1f8c1e292a\">\n",
              "      Upload widget is only available when the cell has been executed in the\n",
              "      current browser session. Please rerun this cell to enable.\n",
              "      </output>\n",
              "      <script>// Copyright 2017 Google LLC\n",
              "//\n",
              "// Licensed under the Apache License, Version 2.0 (the \"License\");\n",
              "// you may not use this file except in compliance with the License.\n",
              "// You may obtain a copy of the License at\n",
              "//\n",
              "//      http://www.apache.org/licenses/LICENSE-2.0\n",
              "//\n",
              "// Unless required by applicable law or agreed to in writing, software\n",
              "// distributed under the License is distributed on an \"AS IS\" BASIS,\n",
              "// WITHOUT WARRANTIES OR CONDITIONS OF ANY KIND, either express or implied.\n",
              "// See the License for the specific language governing permissions and\n",
              "// limitations under the License.\n",
              "\n",
              "/**\n",
              " * @fileoverview Helpers for google.colab Python module.\n",
              " */\n",
              "(function(scope) {\n",
              "function span(text, styleAttributes = {}) {\n",
              "  const element = document.createElement('span');\n",
              "  element.textContent = text;\n",
              "  for (const key of Object.keys(styleAttributes)) {\n",
              "    element.style[key] = styleAttributes[key];\n",
              "  }\n",
              "  return element;\n",
              "}\n",
              "\n",
              "// Max number of bytes which will be uploaded at a time.\n",
              "const MAX_PAYLOAD_SIZE = 100 * 1024;\n",
              "\n",
              "function _uploadFiles(inputId, outputId) {\n",
              "  const steps = uploadFilesStep(inputId, outputId);\n",
              "  const outputElement = document.getElementById(outputId);\n",
              "  // Cache steps on the outputElement to make it available for the next call\n",
              "  // to uploadFilesContinue from Python.\n",
              "  outputElement.steps = steps;\n",
              "\n",
              "  return _uploadFilesContinue(outputId);\n",
              "}\n",
              "\n",
              "// This is roughly an async generator (not supported in the browser yet),\n",
              "// where there are multiple asynchronous steps and the Python side is going\n",
              "// to poll for completion of each step.\n",
              "// This uses a Promise to block the python side on completion of each step,\n",
              "// then passes the result of the previous step as the input to the next step.\n",
              "function _uploadFilesContinue(outputId) {\n",
              "  const outputElement = document.getElementById(outputId);\n",
              "  const steps = outputElement.steps;\n",
              "\n",
              "  const next = steps.next(outputElement.lastPromiseValue);\n",
              "  return Promise.resolve(next.value.promise).then((value) => {\n",
              "    // Cache the last promise value to make it available to the next\n",
              "    // step of the generator.\n",
              "    outputElement.lastPromiseValue = value;\n",
              "    return next.value.response;\n",
              "  });\n",
              "}\n",
              "\n",
              "/**\n",
              " * Generator function which is called between each async step of the upload\n",
              " * process.\n",
              " * @param {string} inputId Element ID of the input file picker element.\n",
              " * @param {string} outputId Element ID of the output display.\n",
              " * @return {!Iterable<!Object>} Iterable of next steps.\n",
              " */\n",
              "function* uploadFilesStep(inputId, outputId) {\n",
              "  const inputElement = document.getElementById(inputId);\n",
              "  inputElement.disabled = false;\n",
              "\n",
              "  const outputElement = document.getElementById(outputId);\n",
              "  outputElement.innerHTML = '';\n",
              "\n",
              "  const pickedPromise = new Promise((resolve) => {\n",
              "    inputElement.addEventListener('change', (e) => {\n",
              "      resolve(e.target.files);\n",
              "    });\n",
              "  });\n",
              "\n",
              "  const cancel = document.createElement('button');\n",
              "  inputElement.parentElement.appendChild(cancel);\n",
              "  cancel.textContent = 'Cancel upload';\n",
              "  const cancelPromise = new Promise((resolve) => {\n",
              "    cancel.onclick = () => {\n",
              "      resolve(null);\n",
              "    };\n",
              "  });\n",
              "\n",
              "  // Wait for the user to pick the files.\n",
              "  const files = yield {\n",
              "    promise: Promise.race([pickedPromise, cancelPromise]),\n",
              "    response: {\n",
              "      action: 'starting',\n",
              "    }\n",
              "  };\n",
              "\n",
              "  cancel.remove();\n",
              "\n",
              "  // Disable the input element since further picks are not allowed.\n",
              "  inputElement.disabled = true;\n",
              "\n",
              "  if (!files) {\n",
              "    return {\n",
              "      response: {\n",
              "        action: 'complete',\n",
              "      }\n",
              "    };\n",
              "  }\n",
              "\n",
              "  for (const file of files) {\n",
              "    const li = document.createElement('li');\n",
              "    li.append(span(file.name, {fontWeight: 'bold'}));\n",
              "    li.append(span(\n",
              "        `(${file.type || 'n/a'}) - ${file.size} bytes, ` +\n",
              "        `last modified: ${\n",
              "            file.lastModifiedDate ? file.lastModifiedDate.toLocaleDateString() :\n",
              "                                    'n/a'} - `));\n",
              "    const percent = span('0% done');\n",
              "    li.appendChild(percent);\n",
              "\n",
              "    outputElement.appendChild(li);\n",
              "\n",
              "    const fileDataPromise = new Promise((resolve) => {\n",
              "      const reader = new FileReader();\n",
              "      reader.onload = (e) => {\n",
              "        resolve(e.target.result);\n",
              "      };\n",
              "      reader.readAsArrayBuffer(file);\n",
              "    });\n",
              "    // Wait for the data to be ready.\n",
              "    let fileData = yield {\n",
              "      promise: fileDataPromise,\n",
              "      response: {\n",
              "        action: 'continue',\n",
              "      }\n",
              "    };\n",
              "\n",
              "    // Use a chunked sending to avoid message size limits. See b/62115660.\n",
              "    let position = 0;\n",
              "    do {\n",
              "      const length = Math.min(fileData.byteLength - position, MAX_PAYLOAD_SIZE);\n",
              "      const chunk = new Uint8Array(fileData, position, length);\n",
              "      position += length;\n",
              "\n",
              "      const base64 = btoa(String.fromCharCode.apply(null, chunk));\n",
              "      yield {\n",
              "        response: {\n",
              "          action: 'append',\n",
              "          file: file.name,\n",
              "          data: base64,\n",
              "        },\n",
              "      };\n",
              "\n",
              "      let percentDone = fileData.byteLength === 0 ?\n",
              "          100 :\n",
              "          Math.round((position / fileData.byteLength) * 100);\n",
              "      percent.textContent = `${percentDone}% done`;\n",
              "\n",
              "    } while (position < fileData.byteLength);\n",
              "  }\n",
              "\n",
              "  // All done.\n",
              "  yield {\n",
              "    response: {\n",
              "      action: 'complete',\n",
              "    }\n",
              "  };\n",
              "}\n",
              "\n",
              "scope.google = scope.google || {};\n",
              "scope.google.colab = scope.google.colab || {};\n",
              "scope.google.colab._files = {\n",
              "  _uploadFiles,\n",
              "  _uploadFilesContinue,\n",
              "};\n",
              "})(self);\n",
              "</script> "
            ]
          },
          "metadata": {}
        },
        {
          "output_type": "stream",
          "name": "stdout",
          "text": [
            "Saving QVI_purchase_behaviour.csv to QVI_purchase_behaviour.csv\n",
            "Saving QVI_transaction_data.xlsx to QVI_transaction_data.xlsx\n"
          ]
        }
      ],
      "source": [
        "#import files from local device\n",
        "from google.colab import files\n",
        "uploaded = files.upload()"
      ]
    },
    {
      "cell_type": "code",
      "source": [
        "# importing the libraries for analysis\n",
        "\n",
        "import numpy as np\n",
        "import pandas as pd\n",
        "from scipy.stats import ttest_ind\n",
        "import seaborn as sns\n",
        "import matplotlib.pyplot as plt\n",
        "from collections import Counter\n",
        "from mlxtend.frequent_patterns import apriori\n",
        "from mlxtend.frequent_patterns import association_rules\n",
        "import warnings\n",
        "warnings.filterwarnings('ignore')"
      ],
      "metadata": {
        "id": "CkcUe-GR6lez"
      },
      "execution_count": 2,
      "outputs": []
    },
    {
      "cell_type": "code",
      "source": [
        "#loading the datasets\n",
        "purchase_df = pd.read_csv('QVI_purchase_behaviour.csv')\n",
        "transaction_df = pd.read_excel('QVI_transaction_data.xlsx')"
      ],
      "metadata": {
        "id": "UkFeEnO96oyy"
      },
      "execution_count": 3,
      "outputs": []
    },
    {
      "cell_type": "code",
      "source": [
        "#observing the data\n",
        "purchase_df.head()"
      ],
      "metadata": {
        "colab": {
          "base_uri": "https://localhost:8080/",
          "height": 206
        },
        "id": "AcC_7b6R6pd6",
        "outputId": "df5baebc-03f4-43c0-fa37-b7d8f6878708"
      },
      "execution_count": null,
      "outputs": [
        {
          "output_type": "execute_result",
          "data": {
            "text/plain": [
              "   LYLTY_CARD_NBR               LIFESTAGE PREMIUM_CUSTOMER\n",
              "0            1000   YOUNG SINGLES/COUPLES          Premium\n",
              "1            1002   YOUNG SINGLES/COUPLES       Mainstream\n",
              "2            1003          YOUNG FAMILIES           Budget\n",
              "3            1004   OLDER SINGLES/COUPLES       Mainstream\n",
              "4            1005  MIDAGE SINGLES/COUPLES       Mainstream"
            ],
            "text/html": [
              "\n",
              "  <div id=\"df-536e13d1-41ba-470f-918a-af166d9404e2\">\n",
              "    <div class=\"colab-df-container\">\n",
              "      <div>\n",
              "<style scoped>\n",
              "    .dataframe tbody tr th:only-of-type {\n",
              "        vertical-align: middle;\n",
              "    }\n",
              "\n",
              "    .dataframe tbody tr th {\n",
              "        vertical-align: top;\n",
              "    }\n",
              "\n",
              "    .dataframe thead th {\n",
              "        text-align: right;\n",
              "    }\n",
              "</style>\n",
              "<table border=\"1\" class=\"dataframe\">\n",
              "  <thead>\n",
              "    <tr style=\"text-align: right;\">\n",
              "      <th></th>\n",
              "      <th>LYLTY_CARD_NBR</th>\n",
              "      <th>LIFESTAGE</th>\n",
              "      <th>PREMIUM_CUSTOMER</th>\n",
              "    </tr>\n",
              "  </thead>\n",
              "  <tbody>\n",
              "    <tr>\n",
              "      <th>0</th>\n",
              "      <td>1000</td>\n",
              "      <td>YOUNG SINGLES/COUPLES</td>\n",
              "      <td>Premium</td>\n",
              "    </tr>\n",
              "    <tr>\n",
              "      <th>1</th>\n",
              "      <td>1002</td>\n",
              "      <td>YOUNG SINGLES/COUPLES</td>\n",
              "      <td>Mainstream</td>\n",
              "    </tr>\n",
              "    <tr>\n",
              "      <th>2</th>\n",
              "      <td>1003</td>\n",
              "      <td>YOUNG FAMILIES</td>\n",
              "      <td>Budget</td>\n",
              "    </tr>\n",
              "    <tr>\n",
              "      <th>3</th>\n",
              "      <td>1004</td>\n",
              "      <td>OLDER SINGLES/COUPLES</td>\n",
              "      <td>Mainstream</td>\n",
              "    </tr>\n",
              "    <tr>\n",
              "      <th>4</th>\n",
              "      <td>1005</td>\n",
              "      <td>MIDAGE SINGLES/COUPLES</td>\n",
              "      <td>Mainstream</td>\n",
              "    </tr>\n",
              "  </tbody>\n",
              "</table>\n",
              "</div>\n",
              "      <button class=\"colab-df-convert\" onclick=\"convertToInteractive('df-536e13d1-41ba-470f-918a-af166d9404e2')\"\n",
              "              title=\"Convert this dataframe to an interactive table.\"\n",
              "              style=\"display:none;\">\n",
              "        \n",
              "  <svg xmlns=\"http://www.w3.org/2000/svg\" height=\"24px\"viewBox=\"0 0 24 24\"\n",
              "       width=\"24px\">\n",
              "    <path d=\"M0 0h24v24H0V0z\" fill=\"none\"/>\n",
              "    <path d=\"M18.56 5.44l.94 2.06.94-2.06 2.06-.94-2.06-.94-.94-2.06-.94 2.06-2.06.94zm-11 1L8.5 8.5l.94-2.06 2.06-.94-2.06-.94L8.5 2.5l-.94 2.06-2.06.94zm10 10l.94 2.06.94-2.06 2.06-.94-2.06-.94-.94-2.06-.94 2.06-2.06.94z\"/><path d=\"M17.41 7.96l-1.37-1.37c-.4-.4-.92-.59-1.43-.59-.52 0-1.04.2-1.43.59L10.3 9.45l-7.72 7.72c-.78.78-.78 2.05 0 2.83L4 21.41c.39.39.9.59 1.41.59.51 0 1.02-.2 1.41-.59l7.78-7.78 2.81-2.81c.8-.78.8-2.07 0-2.86zM5.41 20L4 18.59l7.72-7.72 1.47 1.35L5.41 20z\"/>\n",
              "  </svg>\n",
              "      </button>\n",
              "      \n",
              "  <style>\n",
              "    .colab-df-container {\n",
              "      display:flex;\n",
              "      flex-wrap:wrap;\n",
              "      gap: 12px;\n",
              "    }\n",
              "\n",
              "    .colab-df-convert {\n",
              "      background-color: #E8F0FE;\n",
              "      border: none;\n",
              "      border-radius: 50%;\n",
              "      cursor: pointer;\n",
              "      display: none;\n",
              "      fill: #1967D2;\n",
              "      height: 32px;\n",
              "      padding: 0 0 0 0;\n",
              "      width: 32px;\n",
              "    }\n",
              "\n",
              "    .colab-df-convert:hover {\n",
              "      background-color: #E2EBFA;\n",
              "      box-shadow: 0px 1px 2px rgba(60, 64, 67, 0.3), 0px 1px 3px 1px rgba(60, 64, 67, 0.15);\n",
              "      fill: #174EA6;\n",
              "    }\n",
              "\n",
              "    [theme=dark] .colab-df-convert {\n",
              "      background-color: #3B4455;\n",
              "      fill: #D2E3FC;\n",
              "    }\n",
              "\n",
              "    [theme=dark] .colab-df-convert:hover {\n",
              "      background-color: #434B5C;\n",
              "      box-shadow: 0px 1px 3px 1px rgba(0, 0, 0, 0.15);\n",
              "      filter: drop-shadow(0px 1px 2px rgba(0, 0, 0, 0.3));\n",
              "      fill: #FFFFFF;\n",
              "    }\n",
              "  </style>\n",
              "\n",
              "      <script>\n",
              "        const buttonEl =\n",
              "          document.querySelector('#df-536e13d1-41ba-470f-918a-af166d9404e2 button.colab-df-convert');\n",
              "        buttonEl.style.display =\n",
              "          google.colab.kernel.accessAllowed ? 'block' : 'none';\n",
              "\n",
              "        async function convertToInteractive(key) {\n",
              "          const element = document.querySelector('#df-536e13d1-41ba-470f-918a-af166d9404e2');\n",
              "          const dataTable =\n",
              "            await google.colab.kernel.invokeFunction('convertToInteractive',\n",
              "                                                     [key], {});\n",
              "          if (!dataTable) return;\n",
              "\n",
              "          const docLinkHtml = 'Like what you see? Visit the ' +\n",
              "            '<a target=\"_blank\" href=https://colab.research.google.com/notebooks/data_table.ipynb>data table notebook</a>'\n",
              "            + ' to learn more about interactive tables.';\n",
              "          element.innerHTML = '';\n",
              "          dataTable['output_type'] = 'display_data';\n",
              "          await google.colab.output.renderOutput(dataTable, element);\n",
              "          const docLink = document.createElement('div');\n",
              "          docLink.innerHTML = docLinkHtml;\n",
              "          element.appendChild(docLink);\n",
              "        }\n",
              "      </script>\n",
              "    </div>\n",
              "  </div>\n",
              "  "
            ]
          },
          "metadata": {},
          "execution_count": 5
        }
      ]
    },
    {
      "cell_type": "code",
      "source": [
        "transaction_df.head()"
      ],
      "metadata": {
        "colab": {
          "base_uri": "https://localhost:8080/",
          "height": 206
        },
        "id": "2UubfaGn6vH2",
        "outputId": "b073c12e-b363-4eaf-bfd9-20f500b593dd"
      },
      "execution_count": null,
      "outputs": [
        {
          "output_type": "execute_result",
          "data": {
            "text/plain": [
              "    DATE  STORE_NBR  LYLTY_CARD_NBR  TXN_ID  PROD_NBR  \\\n",
              "0  43390          1            1000       1         5   \n",
              "1  43599          1            1307     348        66   \n",
              "2  43605          1            1343     383        61   \n",
              "3  43329          2            2373     974        69   \n",
              "4  43330          2            2426    1038       108   \n",
              "\n",
              "                                  PROD_NAME  PROD_QTY  TOT_SALES  \n",
              "0    Natural Chip        Compny SeaSalt175g         2        6.0  \n",
              "1                  CCs Nacho Cheese    175g         3        6.3  \n",
              "2    Smiths Crinkle Cut  Chips Chicken 170g         2        2.9  \n",
              "3    Smiths Chip Thinly  S/Cream&Onion 175g         5       15.0  \n",
              "4  Kettle Tortilla ChpsHny&Jlpno Chili 150g         3       13.8  "
            ],
            "text/html": [
              "\n",
              "  <div id=\"df-9a23284e-4539-4c59-b9fa-bf6f8e866c26\">\n",
              "    <div class=\"colab-df-container\">\n",
              "      <div>\n",
              "<style scoped>\n",
              "    .dataframe tbody tr th:only-of-type {\n",
              "        vertical-align: middle;\n",
              "    }\n",
              "\n",
              "    .dataframe tbody tr th {\n",
              "        vertical-align: top;\n",
              "    }\n",
              "\n",
              "    .dataframe thead th {\n",
              "        text-align: right;\n",
              "    }\n",
              "</style>\n",
              "<table border=\"1\" class=\"dataframe\">\n",
              "  <thead>\n",
              "    <tr style=\"text-align: right;\">\n",
              "      <th></th>\n",
              "      <th>DATE</th>\n",
              "      <th>STORE_NBR</th>\n",
              "      <th>LYLTY_CARD_NBR</th>\n",
              "      <th>TXN_ID</th>\n",
              "      <th>PROD_NBR</th>\n",
              "      <th>PROD_NAME</th>\n",
              "      <th>PROD_QTY</th>\n",
              "      <th>TOT_SALES</th>\n",
              "    </tr>\n",
              "  </thead>\n",
              "  <tbody>\n",
              "    <tr>\n",
              "      <th>0</th>\n",
              "      <td>43390</td>\n",
              "      <td>1</td>\n",
              "      <td>1000</td>\n",
              "      <td>1</td>\n",
              "      <td>5</td>\n",
              "      <td>Natural Chip        Compny SeaSalt175g</td>\n",
              "      <td>2</td>\n",
              "      <td>6.0</td>\n",
              "    </tr>\n",
              "    <tr>\n",
              "      <th>1</th>\n",
              "      <td>43599</td>\n",
              "      <td>1</td>\n",
              "      <td>1307</td>\n",
              "      <td>348</td>\n",
              "      <td>66</td>\n",
              "      <td>CCs Nacho Cheese    175g</td>\n",
              "      <td>3</td>\n",
              "      <td>6.3</td>\n",
              "    </tr>\n",
              "    <tr>\n",
              "      <th>2</th>\n",
              "      <td>43605</td>\n",
              "      <td>1</td>\n",
              "      <td>1343</td>\n",
              "      <td>383</td>\n",
              "      <td>61</td>\n",
              "      <td>Smiths Crinkle Cut  Chips Chicken 170g</td>\n",
              "      <td>2</td>\n",
              "      <td>2.9</td>\n",
              "    </tr>\n",
              "    <tr>\n",
              "      <th>3</th>\n",
              "      <td>43329</td>\n",
              "      <td>2</td>\n",
              "      <td>2373</td>\n",
              "      <td>974</td>\n",
              "      <td>69</td>\n",
              "      <td>Smiths Chip Thinly  S/Cream&amp;Onion 175g</td>\n",
              "      <td>5</td>\n",
              "      <td>15.0</td>\n",
              "    </tr>\n",
              "    <tr>\n",
              "      <th>4</th>\n",
              "      <td>43330</td>\n",
              "      <td>2</td>\n",
              "      <td>2426</td>\n",
              "      <td>1038</td>\n",
              "      <td>108</td>\n",
              "      <td>Kettle Tortilla ChpsHny&amp;Jlpno Chili 150g</td>\n",
              "      <td>3</td>\n",
              "      <td>13.8</td>\n",
              "    </tr>\n",
              "  </tbody>\n",
              "</table>\n",
              "</div>\n",
              "      <button class=\"colab-df-convert\" onclick=\"convertToInteractive('df-9a23284e-4539-4c59-b9fa-bf6f8e866c26')\"\n",
              "              title=\"Convert this dataframe to an interactive table.\"\n",
              "              style=\"display:none;\">\n",
              "        \n",
              "  <svg xmlns=\"http://www.w3.org/2000/svg\" height=\"24px\"viewBox=\"0 0 24 24\"\n",
              "       width=\"24px\">\n",
              "    <path d=\"M0 0h24v24H0V0z\" fill=\"none\"/>\n",
              "    <path d=\"M18.56 5.44l.94 2.06.94-2.06 2.06-.94-2.06-.94-.94-2.06-.94 2.06-2.06.94zm-11 1L8.5 8.5l.94-2.06 2.06-.94-2.06-.94L8.5 2.5l-.94 2.06-2.06.94zm10 10l.94 2.06.94-2.06 2.06-.94-2.06-.94-.94-2.06-.94 2.06-2.06.94z\"/><path d=\"M17.41 7.96l-1.37-1.37c-.4-.4-.92-.59-1.43-.59-.52 0-1.04.2-1.43.59L10.3 9.45l-7.72 7.72c-.78.78-.78 2.05 0 2.83L4 21.41c.39.39.9.59 1.41.59.51 0 1.02-.2 1.41-.59l7.78-7.78 2.81-2.81c.8-.78.8-2.07 0-2.86zM5.41 20L4 18.59l7.72-7.72 1.47 1.35L5.41 20z\"/>\n",
              "  </svg>\n",
              "      </button>\n",
              "      \n",
              "  <style>\n",
              "    .colab-df-container {\n",
              "      display:flex;\n",
              "      flex-wrap:wrap;\n",
              "      gap: 12px;\n",
              "    }\n",
              "\n",
              "    .colab-df-convert {\n",
              "      background-color: #E8F0FE;\n",
              "      border: none;\n",
              "      border-radius: 50%;\n",
              "      cursor: pointer;\n",
              "      display: none;\n",
              "      fill: #1967D2;\n",
              "      height: 32px;\n",
              "      padding: 0 0 0 0;\n",
              "      width: 32px;\n",
              "    }\n",
              "\n",
              "    .colab-df-convert:hover {\n",
              "      background-color: #E2EBFA;\n",
              "      box-shadow: 0px 1px 2px rgba(60, 64, 67, 0.3), 0px 1px 3px 1px rgba(60, 64, 67, 0.15);\n",
              "      fill: #174EA6;\n",
              "    }\n",
              "\n",
              "    [theme=dark] .colab-df-convert {\n",
              "      background-color: #3B4455;\n",
              "      fill: #D2E3FC;\n",
              "    }\n",
              "\n",
              "    [theme=dark] .colab-df-convert:hover {\n",
              "      background-color: #434B5C;\n",
              "      box-shadow: 0px 1px 3px 1px rgba(0, 0, 0, 0.15);\n",
              "      filter: drop-shadow(0px 1px 2px rgba(0, 0, 0, 0.3));\n",
              "      fill: #FFFFFF;\n",
              "    }\n",
              "  </style>\n",
              "\n",
              "      <script>\n",
              "        const buttonEl =\n",
              "          document.querySelector('#df-9a23284e-4539-4c59-b9fa-bf6f8e866c26 button.colab-df-convert');\n",
              "        buttonEl.style.display =\n",
              "          google.colab.kernel.accessAllowed ? 'block' : 'none';\n",
              "\n",
              "        async function convertToInteractive(key) {\n",
              "          const element = document.querySelector('#df-9a23284e-4539-4c59-b9fa-bf6f8e866c26');\n",
              "          const dataTable =\n",
              "            await google.colab.kernel.invokeFunction('convertToInteractive',\n",
              "                                                     [key], {});\n",
              "          if (!dataTable) return;\n",
              "\n",
              "          const docLinkHtml = 'Like what you see? Visit the ' +\n",
              "            '<a target=\"_blank\" href=https://colab.research.google.com/notebooks/data_table.ipynb>data table notebook</a>'\n",
              "            + ' to learn more about interactive tables.';\n",
              "          element.innerHTML = '';\n",
              "          dataTable['output_type'] = 'display_data';\n",
              "          await google.colab.output.renderOutput(dataTable, element);\n",
              "          const docLink = document.createElement('div');\n",
              "          docLink.innerHTML = docLinkHtml;\n",
              "          element.appendChild(docLink);\n",
              "        }\n",
              "      </script>\n",
              "    </div>\n",
              "  </div>\n",
              "  "
            ]
          },
          "metadata": {},
          "execution_count": 5
        }
      ]
    },
    {
      "cell_type": "code",
      "source": [
        "#getting additional information about the datasets\n",
        "purchase_df.info()"
      ],
      "metadata": {
        "colab": {
          "base_uri": "https://localhost:8080/"
        },
        "id": "9A-ldW0Y6yGb",
        "outputId": "1d627389-70f3-4666-dfd7-ca13a77fbd3c"
      },
      "execution_count": null,
      "outputs": [
        {
          "output_type": "stream",
          "name": "stdout",
          "text": [
            "<class 'pandas.core.frame.DataFrame'>\n",
            "RangeIndex: 72637 entries, 0 to 72636\n",
            "Data columns (total 3 columns):\n",
            " #   Column            Non-Null Count  Dtype \n",
            "---  ------            --------------  ----- \n",
            " 0   LYLTY_CARD_NBR    72637 non-null  int64 \n",
            " 1   LIFESTAGE         72637 non-null  object\n",
            " 2   PREMIUM_CUSTOMER  72637 non-null  object\n",
            "dtypes: int64(1), object(2)\n",
            "memory usage: 1.7+ MB\n"
          ]
        }
      ]
    },
    {
      "cell_type": "code",
      "source": [
        "transaction_df.info()"
      ],
      "metadata": {
        "colab": {
          "base_uri": "https://localhost:8080/"
        },
        "id": "LmSH7UiA61u6",
        "outputId": "0e782f3a-eee3-40ae-a2b0-ae19dfbaac12"
      },
      "execution_count": null,
      "outputs": [
        {
          "output_type": "stream",
          "name": "stdout",
          "text": [
            "<class 'pandas.core.frame.DataFrame'>\n",
            "RangeIndex: 264836 entries, 0 to 264835\n",
            "Data columns (total 8 columns):\n",
            " #   Column          Non-Null Count   Dtype  \n",
            "---  ------          --------------   -----  \n",
            " 0   DATE            264836 non-null  int64  \n",
            " 1   STORE_NBR       264836 non-null  int64  \n",
            " 2   LYLTY_CARD_NBR  264836 non-null  int64  \n",
            " 3   TXN_ID          264836 non-null  int64  \n",
            " 4   PROD_NBR        264836 non-null  int64  \n",
            " 5   PROD_NAME       264836 non-null  object \n",
            " 6   PROD_QTY        264836 non-null  int64  \n",
            " 7   TOT_SALES       264836 non-null  float64\n",
            "dtypes: float64(1), int64(6), object(1)\n",
            "memory usage: 16.2+ MB\n"
          ]
        }
      ]
    },
    {
      "cell_type": "markdown",
      "source": [
        "From the datasets above, we have the purchase behaviour dataset which has 3 columns\n",
        "\n",
        "LYLTY_CARD_NBR: shows the loyalty card number of the customer\n",
        "LIFESTAGE: shows the lifestage the customer is in (whether at single or married, young or old etc.)\n",
        "PREMIUM_CUSTOMER: customers segmented based on their purchase behaviours whether they are preium customers or budget customers etc..\n",
        "There is one integer column and 2 object columns and no missing values.\n",
        "\n",
        "The transaction dataset has 7 columns describing the date of transaction, the store number the purchase was made from, the loyalty card number of the customer, transaction id, product number, the name of the product the customer purchased, the quantity of the product purchased and the total price/sale done for this transaction.\n",
        "\n",
        "There are no missing values for this dataset as well."
      ],
      "metadata": {
        "id": "H_aRJN7X67zV"
      }
    },
    {
      "cell_type": "markdown",
      "source": [
        "We'll perform some checks on the data to identify any inaccuracies in the both the datasets"
      ],
      "metadata": {
        "id": "__BqM7ei68uw"
      }
    },
    {
      "cell_type": "code",
      "source": [
        "#checking for duplicate rows in the datasets\n",
        "duplicate_df1 = purchase_df[purchase_df.duplicated()]\n",
        "duplicate_df2 = transaction_df[transaction_df.duplicated()]"
      ],
      "metadata": {
        "id": "9UgZkcpq62nK"
      },
      "execution_count": null,
      "outputs": []
    },
    {
      "cell_type": "code",
      "source": [
        "print(duplicate_df1)"
      ],
      "metadata": {
        "colab": {
          "base_uri": "https://localhost:8080/"
        },
        "id": "Fo-CiJnQ7HSp",
        "outputId": "03506912-daf3-43e1-e436-d895afef73b2"
      },
      "execution_count": null,
      "outputs": [
        {
          "output_type": "stream",
          "name": "stdout",
          "text": [
            "Empty DataFrame\n",
            "Columns: [LYLTY_CARD_NBR, LIFESTAGE, PREMIUM_CUSTOMER]\n",
            "Index: []\n"
          ]
        }
      ]
    },
    {
      "cell_type": "code",
      "source": [
        "print(duplicate_df2)"
      ],
      "metadata": {
        "colab": {
          "base_uri": "https://localhost:8080/"
        },
        "id": "nVLqItMy7Jod",
        "outputId": "c75f2dbf-3580-4a04-bffb-005c2b31a004"
      },
      "execution_count": null,
      "outputs": [
        {
          "output_type": "stream",
          "name": "stdout",
          "text": [
            "         DATE  STORE_NBR  LYLTY_CARD_NBR  TXN_ID  PROD_NBR  \\\n",
            "124845  43374        107          107024  108462        45   \n",
            "\n",
            "                                     PROD_NAME  PROD_QTY  TOT_SALES  \n",
            "124845  Smiths Thinly Cut   Roast Chicken 175g         2        6.0  \n"
          ]
        }
      ]
    },
    {
      "cell_type": "markdown",
      "source": [
        "The transaction dataset has a duplicate entry but we can assume that the packet of Roast Chicken can be bought by the same person twice in a single transaction so we can keep this record."
      ],
      "metadata": {
        "id": "UBYKYOYx74ru"
      }
    },
    {
      "cell_type": "code",
      "source": [
        "#checking for missing values\n",
        "purchase_df.isna().sum()"
      ],
      "metadata": {
        "colab": {
          "base_uri": "https://localhost:8080/"
        },
        "id": "3HrruKri7Lue",
        "outputId": "b0bc5343-9cb9-4a31-aa82-a757da140d2e"
      },
      "execution_count": null,
      "outputs": [
        {
          "output_type": "execute_result",
          "data": {
            "text/plain": [
              "LYLTY_CARD_NBR      0\n",
              "LIFESTAGE           0\n",
              "PREMIUM_CUSTOMER    0\n",
              "dtype: int64"
            ]
          },
          "metadata": {},
          "execution_count": 11
        }
      ]
    },
    {
      "cell_type": "code",
      "source": [
        "transaction_df.isna().sum()"
      ],
      "metadata": {
        "colab": {
          "base_uri": "https://localhost:8080/"
        },
        "id": "5AAnphxe7PhZ",
        "outputId": "d3d39e1d-0aa7-46f2-9b12-325deace4824"
      },
      "execution_count": null,
      "outputs": [
        {
          "output_type": "execute_result",
          "data": {
            "text/plain": [
              "DATE              0\n",
              "STORE_NBR         0\n",
              "LYLTY_CARD_NBR    0\n",
              "TXN_ID            0\n",
              "PROD_NBR          0\n",
              "PROD_NAME         0\n",
              "PROD_QTY          0\n",
              "TOT_SALES         0\n",
              "dtype: int64"
            ]
          },
          "metadata": {},
          "execution_count": 12
        }
      ]
    },
    {
      "cell_type": "markdown",
      "source": [
        "Both the datasets don't have any missing values."
      ],
      "metadata": {
        "id": "v7jooSCX7-8E"
      }
    },
    {
      "cell_type": "markdown",
      "source": [
        "**Data Exploration:**\n",
        "\n",
        "understanding the distribution of data and to identify any anomalies."
      ],
      "metadata": {
        "id": "UVBLrq6v8CEa"
      }
    },
    {
      "cell_type": "code",
      "source": [
        "#checking the distribution of lifestage and customer segments\n",
        "sns.countplot(data = purchase_df, y = 'LIFESTAGE', order = purchase_df['LIFESTAGE'].value_counts().index)"
      ],
      "metadata": {
        "colab": {
          "base_uri": "https://localhost:8080/",
          "height": 466
        },
        "id": "1QuW7UNH8KaU",
        "outputId": "44ec38a4-b170-416c-c7c4-98e257d1e128"
      },
      "execution_count": null,
      "outputs": [
        {
          "output_type": "execute_result",
          "data": {
            "text/plain": [
              "<Axes: xlabel='count', ylabel='LIFESTAGE'>"
            ]
          },
          "metadata": {},
          "execution_count": 13
        },
        {
          "output_type": "display_data",
          "data": {
            "text/plain": [
              "<Figure size 640x480 with 1 Axes>"
            ],
            "image/png": "[encoded data removed]"
          },
          "metadata": {}
        }
      ]
    },
    {
      "cell_type": "code",
      "source": [
        "sns.countplot(data = purchase_df, y = 'PREMIUM_CUSTOMER', order = purchase_df['PREMIUM_CUSTOMER'].value_counts().index)"
      ],
      "metadata": {
        "colab": {
          "base_uri": "https://localhost:8080/",
          "height": 466
        },
        "id": "mr1ju4Xe8PCo",
        "outputId": "0646f693-7a9b-47ca-ae77-0701a57bace8"
      },
      "execution_count": null,
      "outputs": [
        {
          "output_type": "execute_result",
          "data": {
            "text/plain": [
              "<Axes: xlabel='count', ylabel='PREMIUM_CUSTOMER'>"
            ]
          },
          "metadata": {},
          "execution_count": 14
        },
        {
          "output_type": "display_data",
          "data": {
            "text/plain": [
              "<Figure size 640x480 with 1 Axes>"
            ],
            "image/png": "[encoded data removed]"
          },
          "metadata": {}
        }
      ]
    },
    {
      "cell_type": "markdown",
      "source": [
        "From the above distribution, we can see the largest share of customers are the mainstream customers. With respect to the lifestage, we can see that most of the customers belong to young singles/couples, older singles/couples or retirees with the percentage of families being less."
      ],
      "metadata": {
        "id": "gE4Nhrj98Tqu"
      }
    },
    {
      "cell_type": "code",
      "source": [
        "#converting excel serial date to pandas datetime\n",
        "transaction_df['DATE'] = pd.to_datetime(transaction_df['DATE'], unit='D',origin='1899-12-30')"
      ],
      "metadata": {
        "id": "ecrGOcfA8WvZ"
      },
      "execution_count": 4,
      "outputs": []
    },
    {
      "cell_type": "code",
      "source": [
        "#distribution of product Quantitity and Sales\n",
        "plt.boxplot(transaction_df['PROD_QTY'])\n",
        "plt.title('Distribution of Product Quantity')"
      ],
      "metadata": {
        "colab": {
          "base_uri": "https://localhost:8080/",
          "height": 469
        },
        "id": "HtTeKL8N8SS_",
        "outputId": "f4c444a8-af3d-4399-d2f9-ab066da78b50"
      },
      "execution_count": null,
      "outputs": [
        {
          "output_type": "execute_result",
          "data": {
            "text/plain": [
              "Text(0.5, 1.0, 'Distribution of Product Quantity')"
            ]
          },
          "metadata": {},
          "execution_count": 16
        },
        {
          "output_type": "display_data",
          "data": {
            "text/plain": [
              "<Figure size 640x480 with 1 Axes>"
            ],
            "image/png": "[encoded data removed]"
          },
          "metadata": {}
        }
      ]
    },
    {
      "cell_type": "code",
      "source": [
        "#distribution of product Quantitity and Sales\n",
        "plt.boxplot(transaction_df['TOT_SALES'])\n",
        "plt.title('Distribution of Total Sales')"
      ],
      "metadata": {
        "colab": {
          "base_uri": "https://localhost:8080/",
          "height": 469
        },
        "id": "joL03_xd8dJU",
        "outputId": "3ce70a10-8730-488d-a359-1abfab436ff8"
      },
      "execution_count": null,
      "outputs": [
        {
          "output_type": "execute_result",
          "data": {
            "text/plain": [
              "Text(0.5, 1.0, 'Distribution of Total Sales')"
            ]
          },
          "metadata": {},
          "execution_count": 17
        },
        {
          "output_type": "display_data",
          "data": {
            "text/plain": [
              "<Figure size 640x480 with 1 Axes>"
            ],
            "image/png": "[encoded data removed]"
          },
          "metadata": {}
        }
      ]
    },
    {
      "cell_type": "code",
      "source": [
        "#checking the details of the customer associated with the outlier\n",
        "transaction_df[(transaction_df['PROD_QTY'] > 190) | (transaction_df['TOT_SALES'] > 600)]"
      ],
      "metadata": {
        "colab": {
          "base_uri": "https://localhost:8080/",
          "height": 112
        },
        "id": "fnlh19_p8f3O",
        "outputId": "8564600d-100a-4845-fb4c-646c387a07ae"
      },
      "execution_count": null,
      "outputs": [
        {
          "output_type": "execute_result",
          "data": {
            "text/plain": [
              "            DATE  STORE_NBR  LYLTY_CARD_NBR  TXN_ID  PROD_NBR  \\\n",
              "69762 2018-08-19        226          226000  226201         4   \n",
              "69763 2019-05-20        226          226000  226210         4   \n",
              "\n",
              "                              PROD_NAME  PROD_QTY  TOT_SALES  \n",
              "69762  Dorito Corn Chp     Supreme 380g       200      650.0  \n",
              "69763  Dorito Corn Chp     Supreme 380g       200      650.0  "
            ],
            "text/html": [
              "\n",
              "  <div id=\"df-557a58bc-3d19-4f1e-924b-f1587e97705d\">\n",
              "    <div class=\"colab-df-container\">\n",
              "      <div>\n",
              "<style scoped>\n",
              "    .dataframe tbody tr th:only-of-type {\n",
              "        vertical-align: middle;\n",
              "    }\n",
              "\n",
              "    .dataframe tbody tr th {\n",
              "        vertical-align: top;\n",
              "    }\n",
              "\n",
              "    .dataframe thead th {\n",
              "        text-align: right;\n",
              "    }\n",
              "</style>\n",
              "<table border=\"1\" class=\"dataframe\">\n",
              "  <thead>\n",
              "    <tr style=\"text-align: right;\">\n",
              "      <th></th>\n",
              "      <th>DATE</th>\n",
              "      <th>STORE_NBR</th>\n",
              "      <th>LYLTY_CARD_NBR</th>\n",
              "      <th>TXN_ID</th>\n",
              "      <th>PROD_NBR</th>\n",
              "      <th>PROD_NAME</th>\n",
              "      <th>PROD_QTY</th>\n",
              "      <th>TOT_SALES</th>\n",
              "    </tr>\n",
              "  </thead>\n",
              "  <tbody>\n",
              "    <tr>\n",
              "      <th>69762</th>\n",
              "      <td>2018-08-19</td>\n",
              "      <td>226</td>\n",
              "      <td>226000</td>\n",
              "      <td>226201</td>\n",
              "      <td>4</td>\n",
              "      <td>Dorito Corn Chp     Supreme 380g</td>\n",
              "      <td>200</td>\n",
              "      <td>650.0</td>\n",
              "    </tr>\n",
              "    <tr>\n",
              "      <th>69763</th>\n",
              "      <td>2019-05-20</td>\n",
              "      <td>226</td>\n",
              "      <td>226000</td>\n",
              "      <td>226210</td>\n",
              "      <td>4</td>\n",
              "      <td>Dorito Corn Chp     Supreme 380g</td>\n",
              "      <td>200</td>\n",
              "      <td>650.0</td>\n",
              "    </tr>\n",
              "  </tbody>\n",
              "</table>\n",
              "</div>\n",
              "      <button class=\"colab-df-convert\" onclick=\"convertToInteractive('df-557a58bc-3d19-4f1e-924b-f1587e97705d')\"\n",
              "              title=\"Convert this dataframe to an interactive table.\"\n",
              "              style=\"display:none;\">\n",
              "        \n",
              "  <svg xmlns=\"http://www.w3.org/2000/svg\" height=\"24px\"viewBox=\"0 0 24 24\"\n",
              "       width=\"24px\">\n",
              "    <path d=\"M0 0h24v24H0V0z\" fill=\"none\"/>\n",
              "    <path d=\"M18.56 5.44l.94 2.06.94-2.06 2.06-.94-2.06-.94-.94-2.06-.94 2.06-2.06.94zm-11 1L8.5 8.5l.94-2.06 2.06-.94-2.06-.94L8.5 2.5l-.94 2.06-2.06.94zm10 10l.94 2.06.94-2.06 2.06-.94-2.06-.94-.94-2.06-.94 2.06-2.06.94z\"/><path d=\"M17.41 7.96l-1.37-1.37c-.4-.4-.92-.59-1.43-.59-.52 0-1.04.2-1.43.59L10.3 9.45l-7.72 7.72c-.78.78-.78 2.05 0 2.83L4 21.41c.39.39.9.59 1.41.59.51 0 1.02-.2 1.41-.59l7.78-7.78 2.81-2.81c.8-.78.8-2.07 0-2.86zM5.41 20L4 18.59l7.72-7.72 1.47 1.35L5.41 20z\"/>\n",
              "  </svg>\n",
              "      </button>\n",
              "      \n",
              "  <style>\n",
              "    .colab-df-container {\n",
              "      display:flex;\n",
              "      flex-wrap:wrap;\n",
              "      gap: 12px;\n",
              "    }\n",
              "\n",
              "    .colab-df-convert {\n",
              "      background-color: #E8F0FE;\n",
              "      border: none;\n",
              "      border-radius: 50%;\n",
              "      cursor: pointer;\n",
              "      display: none;\n",
              "      fill: #1967D2;\n",
              "      height: 32px;\n",
              "      padding: 0 0 0 0;\n",
              "      width: 32px;\n",
              "    }\n",
              "\n",
              "    .colab-df-convert:hover {\n",
              "      background-color: #E2EBFA;\n",
              "      box-shadow: 0px 1px 2px rgba(60, 64, 67, 0.3), 0px 1px 3px 1px rgba(60, 64, 67, 0.15);\n",
              "      fill: #174EA6;\n",
              "    }\n",
              "\n",
              "    [theme=dark] .colab-df-convert {\n",
              "      background-color: #3B4455;\n",
              "      fill: #D2E3FC;\n",
              "    }\n",
              "\n",
              "    [theme=dark] .colab-df-convert:hover {\n",
              "      background-color: #434B5C;\n",
              "      box-shadow: 0px 1px 3px 1px rgba(0, 0, 0, 0.15);\n",
              "      filter: drop-shadow(0px 1px 2px rgba(0, 0, 0, 0.3));\n",
              "      fill: #FFFFFF;\n",
              "    }\n",
              "  </style>\n",
              "\n",
              "      <script>\n",
              "        const buttonEl =\n",
              "          document.querySelector('#df-557a58bc-3d19-4f1e-924b-f1587e97705d button.colab-df-convert');\n",
              "        buttonEl.style.display =\n",
              "          google.colab.kernel.accessAllowed ? 'block' : 'none';\n",
              "\n",
              "        async function convertToInteractive(key) {\n",
              "          const element = document.querySelector('#df-557a58bc-3d19-4f1e-924b-f1587e97705d');\n",
              "          const dataTable =\n",
              "            await google.colab.kernel.invokeFunction('convertToInteractive',\n",
              "                                                     [key], {});\n",
              "          if (!dataTable) return;\n",
              "\n",
              "          const docLinkHtml = 'Like what you see? Visit the ' +\n",
              "            '<a target=\"_blank\" href=https://colab.research.google.com/notebooks/data_table.ipynb>data table notebook</a>'\n",
              "            + ' to learn more about interactive tables.';\n",
              "          element.innerHTML = '';\n",
              "          dataTable['output_type'] = 'display_data';\n",
              "          await google.colab.output.renderOutput(dataTable, element);\n",
              "          const docLink = document.createElement('div');\n",
              "          docLink.innerHTML = docLinkHtml;\n",
              "          element.appendChild(docLink);\n",
              "        }\n",
              "      </script>\n",
              "    </div>\n",
              "  </div>\n",
              "  "
            ]
          },
          "metadata": {},
          "execution_count": 18
        }
      ]
    },
    {
      "cell_type": "code",
      "source": [
        "#checking what other purchases this customer has done\n",
        "transaction_df[transaction_df['LYLTY_CARD_NBR'] == 226000]"
      ],
      "metadata": {
        "colab": {
          "base_uri": "https://localhost:8080/",
          "height": 112
        },
        "id": "LmsbmN098lOh",
        "outputId": "ec1fb6b5-04aa-4f95-8732-a4b48ea139d5"
      },
      "execution_count": null,
      "outputs": [
        {
          "output_type": "execute_result",
          "data": {
            "text/plain": [
              "            DATE  STORE_NBR  LYLTY_CARD_NBR  TXN_ID  PROD_NBR  \\\n",
              "69762 2018-08-19        226          226000  226201         4   \n",
              "69763 2019-05-20        226          226000  226210         4   \n",
              "\n",
              "                              PROD_NAME  PROD_QTY  TOT_SALES  \n",
              "69762  Dorito Corn Chp     Supreme 380g       200      650.0  \n",
              "69763  Dorito Corn Chp     Supreme 380g       200      650.0  "
            ],
            "text/html": [
              "\n",
              "  <div id=\"df-453f1aee-83c0-489a-a2ba-a64d65eff250\">\n",
              "    <div class=\"colab-df-container\">\n",
              "      <div>\n",
              "<style scoped>\n",
              "    .dataframe tbody tr th:only-of-type {\n",
              "        vertical-align: middle;\n",
              "    }\n",
              "\n",
              "    .dataframe tbody tr th {\n",
              "        vertical-align: top;\n",
              "    }\n",
              "\n",
              "    .dataframe thead th {\n",
              "        text-align: right;\n",
              "    }\n",
              "</style>\n",
              "<table border=\"1\" class=\"dataframe\">\n",
              "  <thead>\n",
              "    <tr style=\"text-align: right;\">\n",
              "      <th></th>\n",
              "      <th>DATE</th>\n",
              "      <th>STORE_NBR</th>\n",
              "      <th>LYLTY_CARD_NBR</th>\n",
              "      <th>TXN_ID</th>\n",
              "      <th>PROD_NBR</th>\n",
              "      <th>PROD_NAME</th>\n",
              "      <th>PROD_QTY</th>\n",
              "      <th>TOT_SALES</th>\n",
              "    </tr>\n",
              "  </thead>\n",
              "  <tbody>\n",
              "    <tr>\n",
              "      <th>69762</th>\n",
              "      <td>2018-08-19</td>\n",
              "      <td>226</td>\n",
              "      <td>226000</td>\n",
              "      <td>226201</td>\n",
              "      <td>4</td>\n",
              "      <td>Dorito Corn Chp     Supreme 380g</td>\n",
              "      <td>200</td>\n",
              "      <td>650.0</td>\n",
              "    </tr>\n",
              "    <tr>\n",
              "      <th>69763</th>\n",
              "      <td>2019-05-20</td>\n",
              "      <td>226</td>\n",
              "      <td>226000</td>\n",
              "      <td>226210</td>\n",
              "      <td>4</td>\n",
              "      <td>Dorito Corn Chp     Supreme 380g</td>\n",
              "      <td>200</td>\n",
              "      <td>650.0</td>\n",
              "    </tr>\n",
              "  </tbody>\n",
              "</table>\n",
              "</div>\n",
              "      <button class=\"colab-df-convert\" onclick=\"convertToInteractive('df-453f1aee-83c0-489a-a2ba-a64d65eff250')\"\n",
              "              title=\"Convert this dataframe to an interactive table.\"\n",
              "              style=\"display:none;\">\n",
              "        \n",
              "  <svg xmlns=\"http://www.w3.org/2000/svg\" height=\"24px\"viewBox=\"0 0 24 24\"\n",
              "       width=\"24px\">\n",
              "    <path d=\"M0 0h24v24H0V0z\" fill=\"none\"/>\n",
              "    <path d=\"M18.56 5.44l.94 2.06.94-2.06 2.06-.94-2.06-.94-.94-2.06-.94 2.06-2.06.94zm-11 1L8.5 8.5l.94-2.06 2.06-.94-2.06-.94L8.5 2.5l-.94 2.06-2.06.94zm10 10l.94 2.06.94-2.06 2.06-.94-2.06-.94-.94-2.06-.94 2.06-2.06.94z\"/><path d=\"M17.41 7.96l-1.37-1.37c-.4-.4-.92-.59-1.43-.59-.52 0-1.04.2-1.43.59L10.3 9.45l-7.72 7.72c-.78.78-.78 2.05 0 2.83L4 21.41c.39.39.9.59 1.41.59.51 0 1.02-.2 1.41-.59l7.78-7.78 2.81-2.81c.8-.78.8-2.07 0-2.86zM5.41 20L4 18.59l7.72-7.72 1.47 1.35L5.41 20z\"/>\n",
              "  </svg>\n",
              "      </button>\n",
              "      \n",
              "  <style>\n",
              "    .colab-df-container {\n",
              "      display:flex;\n",
              "      flex-wrap:wrap;\n",
              "      gap: 12px;\n",
              "    }\n",
              "\n",
              "    .colab-df-convert {\n",
              "      background-color: #E8F0FE;\n",
              "      border: none;\n",
              "      border-radius: 50%;\n",
              "      cursor: pointer;\n",
              "      display: none;\n",
              "      fill: #1967D2;\n",
              "      height: 32px;\n",
              "      padding: 0 0 0 0;\n",
              "      width: 32px;\n",
              "    }\n",
              "\n",
              "    .colab-df-convert:hover {\n",
              "      background-color: #E2EBFA;\n",
              "      box-shadow: 0px 1px 2px rgba(60, 64, 67, 0.3), 0px 1px 3px 1px rgba(60, 64, 67, 0.15);\n",
              "      fill: #174EA6;\n",
              "    }\n",
              "\n",
              "    [theme=dark] .colab-df-convert {\n",
              "      background-color: #3B4455;\n",
              "      fill: #D2E3FC;\n",
              "    }\n",
              "\n",
              "    [theme=dark] .colab-df-convert:hover {\n",
              "      background-color: #434B5C;\n",
              "      box-shadow: 0px 1px 3px 1px rgba(0, 0, 0, 0.15);\n",
              "      filter: drop-shadow(0px 1px 2px rgba(0, 0, 0, 0.3));\n",
              "      fill: #FFFFFF;\n",
              "    }\n",
              "  </style>\n",
              "\n",
              "      <script>\n",
              "        const buttonEl =\n",
              "          document.querySelector('#df-453f1aee-83c0-489a-a2ba-a64d65eff250 button.colab-df-convert');\n",
              "        buttonEl.style.display =\n",
              "          google.colab.kernel.accessAllowed ? 'block' : 'none';\n",
              "\n",
              "        async function convertToInteractive(key) {\n",
              "          const element = document.querySelector('#df-453f1aee-83c0-489a-a2ba-a64d65eff250');\n",
              "          const dataTable =\n",
              "            await google.colab.kernel.invokeFunction('convertToInteractive',\n",
              "                                                     [key], {});\n",
              "          if (!dataTable) return;\n",
              "\n",
              "          const docLinkHtml = 'Like what you see? Visit the ' +\n",
              "            '<a target=\"_blank\" href=https://colab.research.google.com/notebooks/data_table.ipynb>data table notebook</a>'\n",
              "            + ' to learn more about interactive tables.';\n",
              "          element.innerHTML = '';\n",
              "          dataTable['output_type'] = 'display_data';\n",
              "          await google.colab.output.renderOutput(dataTable, element);\n",
              "          const docLink = document.createElement('div');\n",
              "          docLink.innerHTML = docLinkHtml;\n",
              "          element.appendChild(docLink);\n",
              "        }\n",
              "      </script>\n",
              "    </div>\n",
              "  </div>\n",
              "  "
            ]
          },
          "metadata": {},
          "execution_count": 20
        }
      ]
    },
    {
      "cell_type": "markdown",
      "source": [
        "From the distribution of total sales and product quantity, we can see that one customer seems to have placed an order with a very large quantity hence a higher sales value associated with it on two separate occasions. This could be a commerical customer. A further look needs to be done to see the lifestage or affluence level of this business.\n",
        "\n",
        "Leaving this customer out from our analysis."
      ],
      "metadata": {
        "id": "AT0YTpCS8rFv"
      }
    },
    {
      "cell_type": "code",
      "source": [
        "transaction_df_new = transaction_df[transaction_df['LYLTY_CARD_NBR'] != 226000]"
      ],
      "metadata": {
        "id": "O23dVSsZ8oli"
      },
      "execution_count": 5,
      "outputs": []
    },
    {
      "cell_type": "code",
      "source": [
        "#removing this customer from purchase dataset for now\n",
        "purchase_df_new = purchase_df[purchase_df['LYLTY_CARD_NBR'] != 226000]"
      ],
      "metadata": {
        "id": "0DoZ1RlR8wb3"
      },
      "execution_count": 6,
      "outputs": []
    },
    {
      "cell_type": "code",
      "source": [
        "#checking the unique values in PROD_NAME column\n",
        "len(transaction_df_new['PROD_NAME'].unique())"
      ],
      "metadata": {
        "colab": {
          "base_uri": "https://localhost:8080/"
        },
        "id": "NTSJ5YwZ80fp",
        "outputId": "4957dd08-8285-45d2-8e1a-0b5f768b8cc0"
      },
      "execution_count": null,
      "outputs": [
        {
          "output_type": "execute_result",
          "data": {
            "text/plain": [
              "114"
            ]
          },
          "metadata": {},
          "execution_count": 23
        }
      ]
    },
    {
      "cell_type": "markdown",
      "source": [
        "There are 114 unique values in this column. Since our focus is on analyzing the chips purchasing behaviour, we will look at whether all of these values are chips or not. We will find out the commonly occuring words to find what are the products that we have."
      ],
      "metadata": {
        "id": "Te7uXceO9yOq"
      }
    },
    {
      "cell_type": "code",
      "source": [
        "#frequency of words in products that do not contain Chip or Chp\n",
        "non_chips = transaction_df_new[~(transaction_df_new['PROD_NAME'].str.contains('Chip')) & ~(transaction_df_new['PROD_NAME'].str.contains('Chp'))]\n",
        "words = ' '.join(non_chips[\"PROD_NAME\"])\n",
        "Counter(words.split()).most_common()"
      ],
      "metadata": {
        "colab": {
          "base_uri": "https://localhost:8080/"
        },
        "id": "VwYq5ddP91OP",
        "outputId": "ceb18f7d-826c-498e-dbd1-aaf14df6aaaa"
      },
      "execution_count": null,
      "outputs": [
        {
          "output_type": "execute_result",
          "data": {
            "text/plain": [
              "[('175g', 35714),\n",
              " ('Kettle', 31708),\n",
              " ('150g', 25677),\n",
              " ('Pringles', 25102),\n",
              " ('134g', 25102),\n",
              " ('&', 24486),\n",
              " ('Cheese', 20004),\n",
              " ('Salsa', 18094),\n",
              " ('Salt', 15392),\n",
              " ('165g', 15297),\n",
              " ('Crinkle', 14848),\n",
              " ('Cut', 13225),\n",
              " ('110g', 12694),\n",
              " ('Crisps', 12607),\n",
              " ('Chilli', 12389),\n",
              " ('Original', 12382),\n",
              " ('300g', 12041),\n",
              " ('Smiths', 11988),\n",
              " ('RRD', 11894),\n",
              " ('Infuzions', 11057),\n",
              " ('Chicken', 10751),\n",
              " ('Twisties', 9454),\n",
              " ('Sensations', 9429),\n",
              " ('330g', 9343),\n",
              " ('Old', 9324),\n",
              " ('El', 9324),\n",
              " ('Paso', 9324),\n",
              " ('Dip', 9324),\n",
              " ('Sour', 9240),\n",
              " ('Doritos', 9088),\n",
              " ('Sweet', 7883),\n",
              " ('Sea', 7861),\n",
              " ('Lime', 7852),\n",
              " ('Tomato', 7669),\n",
              " ('Tyrrells', 6442),\n",
              " ('And', 6373),\n",
              " ('BBQ', 6351),\n",
              " ('Tostitos', 6326),\n",
              " ('Grain', 6272),\n",
              " ('Waves', 6272),\n",
              " ('Lightly', 6248),\n",
              " ('Salted', 6248),\n",
              " ('Cream', 6135),\n",
              " ('Vinegar', 6102),\n",
              " ('Mild', 6048),\n",
              " ('Red', 5885),\n",
              " ('Rock', 5885),\n",
              " ('Deli', 5885),\n",
              " ('Thai', 4737),\n",
              " ('Burger', 4733),\n",
              " ('Swt', 4718),\n",
              " ('Chives', 4687),\n",
              " ('Honey', 4661),\n",
              " ('Soy', 4661),\n",
              " ('Cheezels', 4603),\n",
              " ('170g', 4570),\n",
              " ('CCs', 4551),\n",
              " ('Woolworths', 4437),\n",
              " ('Mozzarella', 3304),\n",
              " ('Basil', 3304),\n",
              " ('Pesto', 3304),\n",
              " ('Ched', 3268),\n",
              " ('135g', 3257),\n",
              " ('Pot', 3257),\n",
              " ('Splash', 3252),\n",
              " ('Of', 3252),\n",
              " ('SweetChili', 3242),\n",
              " ('PotatoMix', 3242),\n",
              " ('Camembert', 3219),\n",
              " ('Fig', 3219),\n",
              " ('Barbeque', 3210),\n",
              " ('Sweet&Spcy', 3177),\n",
              " ('Rib', 3174),\n",
              " ('Prawn', 3174),\n",
              " ('Crackers', 3174),\n",
              " ('Chicken270g', 3170),\n",
              " ('250g', 3169),\n",
              " ('210g', 3167),\n",
              " ('SourCream', 3162),\n",
              " ('Onion', 3162),\n",
              " ('Infzns', 3144),\n",
              " ('Crn', 3144),\n",
              " ('Crnchers', 3144),\n",
              " ('Tangy', 3144),\n",
              " ('Gcamole', 3144),\n",
              " ('SourCream&Herbs', 3134),\n",
              " ('Veg', 3134),\n",
              " ('Strws', 3134),\n",
              " ('Siracha', 3127),\n",
              " ('Chnky', 3125),\n",
              " ('Tom', 3125),\n",
              " ('Ht300g', 3125),\n",
              " ('270g', 3115),\n",
              " ('Mexicana', 3115),\n",
              " ('Med', 3114),\n",
              " ('Mystery', 3114),\n",
              " ('Flavour', 3114),\n",
              " ('Cream&Chives', 3105),\n",
              " ('210G', 3105),\n",
              " ('Crips', 3104),\n",
              " ('Slt', 3095),\n",
              " ('Vingar', 3095),\n",
              " ('Sthrn', 3083),\n",
              " ('FriedChicken', 3083),\n",
              " ('BBQ&Maple', 3083),\n",
              " ('Rings', 3080),\n",
              " ('Supreme', 3052),\n",
              " ('90g', 3008),\n",
              " ('190g', 2995),\n",
              " ('SR', 2984),\n",
              " ('Thinly', 2980),\n",
              " ('Smith', 2963),\n",
              " ('Cheetos', 2927),\n",
              " ('Medium', 2879),\n",
              " ('WW', 2877),\n",
              " ('Snbts', 1576),\n",
              " ('Whlgrn', 1576),\n",
              " ('Cheddr&Mstrd', 1576),\n",
              " ('220g', 1564),\n",
              " ('Tasty', 1539),\n",
              " ('Slow', 1526),\n",
              " ('Rst', 1526),\n",
              " ('Pork', 1526),\n",
              " ('Belly', 1526),\n",
              " ('Roast', 1519),\n",
              " ('Mac', 1512),\n",
              " ('N', 1512),\n",
              " ('Mango', 1507),\n",
              " ('Chutny', 1507),\n",
              " ('Papadums', 1507),\n",
              " ('70g', 1507),\n",
              " ('Chilli&', 1506),\n",
              " ('Coconut', 1506),\n",
              " ('Snag&Sauce', 1503),\n",
              " ('Nacho', 1498),\n",
              " ('Sp', 1498),\n",
              " ('Truffle', 1498),\n",
              " ('150G', 1498),\n",
              " ('Chilli&Lime', 1495),\n",
              " ('Chs', 1479),\n",
              " ('Bacon', 1479),\n",
              " ('Balls', 1479),\n",
              " ('Pepper', 1473),\n",
              " ('GrnWves', 1468),\n",
              " ('Plus', 1468),\n",
              " ('Btroot', 1468),\n",
              " ('Jam', 1468),\n",
              " ('180g', 1468),\n",
              " ('Chli&S/Cream175G', 1461),\n",
              " ('Mzzrlla', 1458),\n",
              " ('Steak', 1455),\n",
              " ('Chimuchurri', 1455),\n",
              " ('Box', 1454),\n",
              " ('125g', 1454),\n",
              " ('Bolognese', 1451),\n",
              " ('Puffs', 1448),\n",
              " ('French', 1438),\n",
              " ('OnionDip', 1438),\n",
              " ('Chikn&Garlic', 1434),\n",
              " ('Aioli', 1434),\n",
              " ('Sunbites', 1432),\n",
              " ('Whlegrn', 1432),\n",
              " ('Frch/Onin', 1432),\n",
              " ('Pc', 1431),\n",
              " ('NCC', 1419),\n",
              " ('Garden', 1419)]"
            ]
          },
          "metadata": {},
          "execution_count": 9
        }
      ]
    },
    {
      "cell_type": "markdown",
      "source": [
        "Based on the above frequency of words, we will identify some combinations of them to see which products are less likely to be chips."
      ],
      "metadata": {
        "id": "4ejzyhWB9-6c"
      }
    },
    {
      "cell_type": "code",
      "source": [
        "#removing products that contain the words Salsa and Dip\n",
        "transaction_df_new = transaction_df_new[~(transaction_df_new['PROD_NAME'].str.contains('Salsa')) & ~(transaction_df_new['PROD_NAME'].str.contains('Dip'))]"
      ],
      "metadata": {
        "id": "QMDt454M-CE_"
      },
      "execution_count": 7,
      "outputs": []
    },
    {
      "cell_type": "markdown",
      "source": [
        "**Data Analysis**"
      ],
      "metadata": {
        "id": "WQT08x_k-G4m"
      }
    },
    {
      "cell_type": "code",
      "source": [
        "# Now that the data issues are resolved, we can proceed to combine the two datasets\n",
        "# combining records based on the customers present in transaction dataset\n",
        "purchase_transaction_df = pd.merge(purchase_df_new, transaction_df_new, on='LYLTY_CARD_NBR', how = 'right')\n",
        "purchase_transaction_df.head()"
      ],
      "metadata": {
        "colab": {
          "base_uri": "https://localhost:8080/",
          "height": 206
        },
        "id": "mxR6F607838j",
        "outputId": "89fac7b9-7584-4ebe-a000-cce95f202469"
      },
      "execution_count": 8,
      "outputs": [
        {
          "output_type": "execute_result",
          "data": {
            "text/plain": [
              "   LYLTY_CARD_NBR               LIFESTAGE PREMIUM_CUSTOMER       DATE  \\\n",
              "0            1000   YOUNG SINGLES/COUPLES          Premium 2018-10-17   \n",
              "1            1307  MIDAGE SINGLES/COUPLES           Budget 2019-05-14   \n",
              "2            1343  MIDAGE SINGLES/COUPLES           Budget 2019-05-20   \n",
              "3            2373  MIDAGE SINGLES/COUPLES           Budget 2018-08-17   \n",
              "4            2426  MIDAGE SINGLES/COUPLES           Budget 2018-08-18   \n",
              "\n",
              "   STORE_NBR  TXN_ID  PROD_NBR                                 PROD_NAME  \\\n",
              "0          1       1         5    Natural Chip        Compny SeaSalt175g   \n",
              "1          1     348        66                  CCs Nacho Cheese    175g   \n",
              "2          1     383        61    Smiths Crinkle Cut  Chips Chicken 170g   \n",
              "3          2     974        69    Smiths Chip Thinly  S/Cream&Onion 175g   \n",
              "4          2    1038       108  Kettle Tortilla ChpsHny&Jlpno Chili 150g   \n",
              "\n",
              "   PROD_QTY  TOT_SALES  \n",
              "0         2        6.0  \n",
              "1         3        6.3  \n",
              "2         2        2.9  \n",
              "3         5       15.0  \n",
              "4         3       13.8  "
            ],
            "text/html": [
              "\n",
              "  <div id=\"df-9532967f-8c9f-4f64-a002-aa433f4061b5\">\n",
              "    <div class=\"colab-df-container\">\n",
              "      <div>\n",
              "<style scoped>\n",
              "    .dataframe tbody tr th:only-of-type {\n",
              "        vertical-align: middle;\n",
              "    }\n",
              "\n",
              "    .dataframe tbody tr th {\n",
              "        vertical-align: top;\n",
              "    }\n",
              "\n",
              "    .dataframe thead th {\n",
              "        text-align: right;\n",
              "    }\n",
              "</style>\n",
              "<table border=\"1\" class=\"dataframe\">\n",
              "  <thead>\n",
              "    <tr style=\"text-align: right;\">\n",
              "      <th></th>\n",
              "      <th>LYLTY_CARD_NBR</th>\n",
              "      <th>LIFESTAGE</th>\n",
              "      <th>PREMIUM_CUSTOMER</th>\n",
              "      <th>DATE</th>\n",
              "      <th>STORE_NBR</th>\n",
              "      <th>TXN_ID</th>\n",
              "      <th>PROD_NBR</th>\n",
              "      <th>PROD_NAME</th>\n",
              "      <th>PROD_QTY</th>\n",
              "      <th>TOT_SALES</th>\n",
              "    </tr>\n",
              "  </thead>\n",
              "  <tbody>\n",
              "    <tr>\n",
              "      <th>0</th>\n",
              "      <td>1000</td>\n",
              "      <td>YOUNG SINGLES/COUPLES</td>\n",
              "      <td>Premium</td>\n",
              "      <td>2018-10-17</td>\n",
              "      <td>1</td>\n",
              "      <td>1</td>\n",
              "      <td>5</td>\n",
              "      <td>Natural Chip        Compny SeaSalt175g</td>\n",
              "      <td>2</td>\n",
              "      <td>6.0</td>\n",
              "    </tr>\n",
              "    <tr>\n",
              "      <th>1</th>\n",
              "      <td>1307</td>\n",
              "      <td>MIDAGE SINGLES/COUPLES</td>\n",
              "      <td>Budget</td>\n",
              "      <td>2019-05-14</td>\n",
              "      <td>1</td>\n",
              "      <td>348</td>\n",
              "      <td>66</td>\n",
              "      <td>CCs Nacho Cheese    175g</td>\n",
              "      <td>3</td>\n",
              "      <td>6.3</td>\n",
              "    </tr>\n",
              "    <tr>\n",
              "      <th>2</th>\n",
              "      <td>1343</td>\n",
              "      <td>MIDAGE SINGLES/COUPLES</td>\n",
              "      <td>Budget</td>\n",
              "      <td>2019-05-20</td>\n",
              "      <td>1</td>\n",
              "      <td>383</td>\n",
              "      <td>61</td>\n",
              "      <td>Smiths Crinkle Cut  Chips Chicken 170g</td>\n",
              "      <td>2</td>\n",
              "      <td>2.9</td>\n",
              "    </tr>\n",
              "    <tr>\n",
              "      <th>3</th>\n",
              "      <td>2373</td>\n",
              "      <td>MIDAGE SINGLES/COUPLES</td>\n",
              "      <td>Budget</td>\n",
              "      <td>2018-08-17</td>\n",
              "      <td>2</td>\n",
              "      <td>974</td>\n",
              "      <td>69</td>\n",
              "      <td>Smiths Chip Thinly  S/Cream&amp;Onion 175g</td>\n",
              "      <td>5</td>\n",
              "      <td>15.0</td>\n",
              "    </tr>\n",
              "    <tr>\n",
              "      <th>4</th>\n",
              "      <td>2426</td>\n",
              "      <td>MIDAGE SINGLES/COUPLES</td>\n",
              "      <td>Budget</td>\n",
              "      <td>2018-08-18</td>\n",
              "      <td>2</td>\n",
              "      <td>1038</td>\n",
              "      <td>108</td>\n",
              "      <td>Kettle Tortilla ChpsHny&amp;Jlpno Chili 150g</td>\n",
              "      <td>3</td>\n",
              "      <td>13.8</td>\n",
              "    </tr>\n",
              "  </tbody>\n",
              "</table>\n",
              "</div>\n",
              "      <button class=\"colab-df-convert\" onclick=\"convertToInteractive('df-9532967f-8c9f-4f64-a002-aa433f4061b5')\"\n",
              "              title=\"Convert this dataframe to an interactive table.\"\n",
              "              style=\"display:none;\">\n",
              "        \n",
              "  <svg xmlns=\"http://www.w3.org/2000/svg\" height=\"24px\"viewBox=\"0 0 24 24\"\n",
              "       width=\"24px\">\n",
              "    <path d=\"M0 0h24v24H0V0z\" fill=\"none\"/>\n",
              "    <path d=\"M18.56 5.44l.94 2.06.94-2.06 2.06-.94-2.06-.94-.94-2.06-.94 2.06-2.06.94zm-11 1L8.5 8.5l.94-2.06 2.06-.94-2.06-.94L8.5 2.5l-.94 2.06-2.06.94zm10 10l.94 2.06.94-2.06 2.06-.94-2.06-.94-.94-2.06-.94 2.06-2.06.94z\"/><path d=\"M17.41 7.96l-1.37-1.37c-.4-.4-.92-.59-1.43-.59-.52 0-1.04.2-1.43.59L10.3 9.45l-7.72 7.72c-.78.78-.78 2.05 0 2.83L4 21.41c.39.39.9.59 1.41.59.51 0 1.02-.2 1.41-.59l7.78-7.78 2.81-2.81c.8-.78.8-2.07 0-2.86zM5.41 20L4 18.59l7.72-7.72 1.47 1.35L5.41 20z\"/>\n",
              "  </svg>\n",
              "      </button>\n",
              "      \n",
              "  <style>\n",
              "    .colab-df-container {\n",
              "      display:flex;\n",
              "      flex-wrap:wrap;\n",
              "      gap: 12px;\n",
              "    }\n",
              "\n",
              "    .colab-df-convert {\n",
              "      background-color: #E8F0FE;\n",
              "      border: none;\n",
              "      border-radius: 50%;\n",
              "      cursor: pointer;\n",
              "      display: none;\n",
              "      fill: #1967D2;\n",
              "      height: 32px;\n",
              "      padding: 0 0 0 0;\n",
              "      width: 32px;\n",
              "    }\n",
              "\n",
              "    .colab-df-convert:hover {\n",
              "      background-color: #E2EBFA;\n",
              "      box-shadow: 0px 1px 2px rgba(60, 64, 67, 0.3), 0px 1px 3px 1px rgba(60, 64, 67, 0.15);\n",
              "      fill: #174EA6;\n",
              "    }\n",
              "\n",
              "    [theme=dark] .colab-df-convert {\n",
              "      background-color: #3B4455;\n",
              "      fill: #D2E3FC;\n",
              "    }\n",
              "\n",
              "    [theme=dark] .colab-df-convert:hover {\n",
              "      background-color: #434B5C;\n",
              "      box-shadow: 0px 1px 3px 1px rgba(0, 0, 0, 0.15);\n",
              "      filter: drop-shadow(0px 1px 2px rgba(0, 0, 0, 0.3));\n",
              "      fill: #FFFFFF;\n",
              "    }\n",
              "  </style>\n",
              "\n",
              "      <script>\n",
              "        const buttonEl =\n",
              "          document.querySelector('#df-9532967f-8c9f-4f64-a002-aa433f4061b5 button.colab-df-convert');\n",
              "        buttonEl.style.display =\n",
              "          google.colab.kernel.accessAllowed ? 'block' : 'none';\n",
              "\n",
              "        async function convertToInteractive(key) {\n",
              "          const element = document.querySelector('#df-9532967f-8c9f-4f64-a002-aa433f4061b5');\n",
              "          const dataTable =\n",
              "            await google.colab.kernel.invokeFunction('convertToInteractive',\n",
              "                                                     [key], {});\n",
              "          if (!dataTable) return;\n",
              "\n",
              "          const docLinkHtml = 'Like what you see? Visit the ' +\n",
              "            '<a target=\"_blank\" href=https://colab.research.google.com/notebooks/data_table.ipynb>data table notebook</a>'\n",
              "            + ' to learn more about interactive tables.';\n",
              "          element.innerHTML = '';\n",
              "          dataTable['output_type'] = 'display_data';\n",
              "          await google.colab.output.renderOutput(dataTable, element);\n",
              "          const docLink = document.createElement('div');\n",
              "          docLink.innerHTML = docLinkHtml;\n",
              "          element.appendChild(docLink);\n",
              "        }\n",
              "      </script>\n",
              "    </div>\n",
              "  </div>\n",
              "  "
            ]
          },
          "metadata": {},
          "execution_count": 8
        }
      ]
    },
    {
      "cell_type": "code",
      "source": [
        "#checking if there are any null values in the merged dataset\n",
        "purchase_transaction_df.isna().sum()"
      ],
      "metadata": {
        "colab": {
          "base_uri": "https://localhost:8080/"
        },
        "id": "EOAI7Mhp-NHs",
        "outputId": "3915e97d-b2e8-42bf-db27-c835a434e5ce"
      },
      "execution_count": 9,
      "outputs": [
        {
          "output_type": "execute_result",
          "data": {
            "text/plain": [
              "LYLTY_CARD_NBR      0\n",
              "LIFESTAGE           0\n",
              "PREMIUM_CUSTOMER    0\n",
              "DATE                0\n",
              "STORE_NBR           0\n",
              "TXN_ID              0\n",
              "PROD_NBR            0\n",
              "PROD_NAME           0\n",
              "PROD_QTY            0\n",
              "TOT_SALES           0\n",
              "dtype: int64"
            ]
          },
          "metadata": {},
          "execution_count": 9
        }
      ]
    },
    {
      "cell_type": "markdown",
      "source": [
        "1) **Distribution of Stores by Number of Products**\n",
        "- example: There are 35 stores selling upto 250 products.\n",
        "- Stores selling products more than the average can be investigated to understand what factors about them - location, layout, product selection has attributed to high sales."
      ],
      "metadata": {
        "id": "t2HXUUZW-SRn"
      }
    },
    {
      "cell_type": "code",
      "source": [
        "count_products_by_stores = purchase_transaction_df.groupby(['STORE_NBR'], as_index=False).size().sort_values(by='size', ascending=False)\n",
        "plt.figure(figsize=(12,4))\n",
        "#boxplot\n",
        "plt.subplot(1,2,1)\n",
        "plt.boxplot(count_products_by_stores['size'], vert=False)\n",
        "# add labels for five number summary\n",
        "# x,y - coordinates of where we want to put the text, y coordinate is found through the data itself\n",
        "# s - what text to mention\n",
        "plt.text(y = 1.1, x = count_products_by_stores['size'].min(), s ='min')\n",
        "plt.text(y = 1.1, x = count_products_by_stores['size'].quantile(0.25), s ='Q1')\n",
        "plt.text(y = 1.1, x = count_products_by_stores['size'].median(), s ='median (Q2)')\n",
        "plt.text(y = 1.1, x = count_products_by_stores['size'].quantile(0.75), s ='Q3')\n",
        "plt.text(y = 1.1, x = count_products_by_stores['size'].max()-100, s ='max')\n",
        "plt.xlabel('Number of Products Sold')\n",
        "#histogram\n",
        "plt.subplot(1,2,2)\n",
        "values, bins, bars = plt.hist(count_products_by_stores['size'], edgecolor='white')\n",
        "plt.xlabel('Number of Products Sold')\n",
        "plt.ylabel('Number of Stores')\n",
        "plt.bar_label(bars, fontsize=10, color='orange')\n",
        "plt.show()"
      ],
      "metadata": {
        "colab": {
          "base_uri": "https://localhost:8080/",
          "height": 388
        },
        "id": "8yZ2cRXy-aRc",
        "outputId": "7bee0742-929a-485f-90a6-8560c208435d"
      },
      "execution_count": null,
      "outputs": [
        {
          "output_type": "display_data",
          "data": {
            "text/plain": [
              "<Figure size 1200x400 with 2 Axes>"
            ],
            "image/png": "[encoded data removed]"
          },
          "metadata": {}
        }
      ]
    },
    {
      "cell_type": "markdown",
      "source": [
        "- The median number of chips sold by the stores are around 700 with the right skewed data suggesting that we have some stores selling a very high number of products. No stores observed as outliers in terms of the number of products sold.\n",
        "- The distribution on the right shows we have two modes/peaks. More simply, it seems like we have a collection of stores where products sold are less than ~800 and a collection of stores where the products sold are ~1000. More analysis needs to be done as to why there is a division like this."
      ],
      "metadata": {
        "id": "xNfRFQhJ-SZt"
      }
    },
    {
      "cell_type": "markdown",
      "source": [
        "2) **Most Selling products for each store** - Shows the highest selling product for each store thereby indicating the consumer preference."
      ],
      "metadata": {
        "id": "sy37IXWD-o4S"
      }
    },
    {
      "cell_type": "code",
      "source": [
        "tdf = purchase_transaction_df.groupby(['STORE_NBR', 'PROD_NBR'], as_index=False).size() #to get number of times each product is sold\n",
        "tdf1 = tdf.groupby(['STORE_NBR']).agg({'size':'max'}) #the max number of product sold in a store for all stores\n",
        "tdf1 = tdf1.reset_index()\n",
        "tdf1 = tdf1.rename(columns={'size':'number_of_times_sold'})\n",
        "tdf2 = pd.merge(tdf, tdf1, how='left', on='STORE_NBR')\n",
        "products_by_store= tdf2[tdf2['size'] == tdf2['number_of_times_sold']] #fetching the products sold the max number of times\n",
        "#boxplot\n",
        "plt.boxplot(products_by_store['number_of_times_sold'])\n",
        "# add labels for five number summary\n",
        "# x,y - coordinates of where we want to put the text, y coordinate is found through the data itself\n",
        "# s - what text to mention\n",
        "plt.text(x = 1.1, y = products_by_store['number_of_times_sold'].min(), s ='min')\n",
        "plt.text(x = 1.1, y = products_by_store['number_of_times_sold'].quantile(0.25), s ='Q1')\n",
        "plt.text(x = 1.1, y = products_by_store['number_of_times_sold'].median(), s ='median (Q2)')\n",
        "plt.text(x = 1.1, y = products_by_store['number_of_times_sold'].quantile(0.75), s ='Q3')\n",
        "plt.text(x = 1.1, y = products_by_store['number_of_times_sold'].max(), s ='max')\n",
        "plt.ylabel('Number of times a product is sold in a Store')"
      ],
      "metadata": {
        "colab": {
          "base_uri": "https://localhost:8080/",
          "height": 447
        },
        "id": "9VcRXXRP-sE8",
        "outputId": "7da4b09e-5ea4-483e-cdc4-8f1769b9af7d"
      },
      "execution_count": null,
      "outputs": [
        {
          "output_type": "execute_result",
          "data": {
            "text/plain": [
              "Text(0, 0.5, 'Number of times a product is sold in a Store')"
            ]
          },
          "metadata": {},
          "execution_count": 93
        },
        {
          "output_type": "display_data",
          "data": {
            "text/plain": [
              "<Figure size 640x480 with 1 Axes>"
            ],
            "image/png": "[encoded data removed]"
          },
          "metadata": {}
        }
      ]
    },
    {
      "cell_type": "markdown",
      "source": [
        "From the above distribution of most selling products for each store, we find that there are some outliers. We will next look at which products are these who are being sold in such high numbers and in which stores these products are being sold. The outlier products have the sales number greater than ~45."
      ],
      "metadata": {
        "id": "C2l9aguO-1Yh"
      }
    },
    {
      "cell_type": "code",
      "source": [
        "#fetching products which have been sold more than 45 times\n",
        "outlier_products = products_by_store[products_by_store['number_of_times_sold']>45]\n",
        "outlier_products.insert(4, 'Product_name', pd.merge(outlier_products, transaction_df, how='left', on=['STORE_NBR','PROD_NBR']).PROD_NAME.unique())\n",
        "outlier_products"
      ],
      "metadata": {
        "colab": {
          "base_uri": "https://localhost:8080/",
          "height": 175
        },
        "id": "ZQUktqq5-5ye",
        "outputId": "3b5e1b97-fd4f-4cff-d5bc-a6f1dea447f0"
      },
      "execution_count": null,
      "outputs": [
        {
          "output_type": "execute_result",
          "data": {
            "text/plain": [
              "       STORE_NBR  PROD_NBR  size  number_of_times_sold  \\\n",
              "4610          58        60    46                    46   \n",
              "6764          88        31    50                    50   \n",
              "15935        203        88    46                    46   \n",
              "17661        226       112    49                    49   \n",
              "\n",
              "                                 Product_name  \n",
              "4610     Kettle Tortilla ChpsFeta&Garlic 150g  \n",
              "6764   Infzns Crn Crnchers Tangy Gcamole 110g  \n",
              "15935        Kettle Honey Soy    Chicken 175g  \n",
              "17661  Tyrrells Crisps     Ched & Chives 165g  "
            ],
            "text/html": [
              "\n",
              "  <div id=\"df-b6434142-caef-48df-a91c-555fdf5b6c4f\">\n",
              "    <div class=\"colab-df-container\">\n",
              "      <div>\n",
              "<style scoped>\n",
              "    .dataframe tbody tr th:only-of-type {\n",
              "        vertical-align: middle;\n",
              "    }\n",
              "\n",
              "    .dataframe tbody tr th {\n",
              "        vertical-align: top;\n",
              "    }\n",
              "\n",
              "    .dataframe thead th {\n",
              "        text-align: right;\n",
              "    }\n",
              "</style>\n",
              "<table border=\"1\" class=\"dataframe\">\n",
              "  <thead>\n",
              "    <tr style=\"text-align: right;\">\n",
              "      <th></th>\n",
              "      <th>STORE_NBR</th>\n",
              "      <th>PROD_NBR</th>\n",
              "      <th>size</th>\n",
              "      <th>number_of_times_sold</th>\n",
              "      <th>Product_name</th>\n",
              "    </tr>\n",
              "  </thead>\n",
              "  <tbody>\n",
              "    <tr>\n",
              "      <th>4610</th>\n",
              "      <td>58</td>\n",
              "      <td>60</td>\n",
              "      <td>46</td>\n",
              "      <td>46</td>\n",
              "      <td>Kettle Tortilla ChpsFeta&amp;Garlic 150g</td>\n",
              "    </tr>\n",
              "    <tr>\n",
              "      <th>6764</th>\n",
              "      <td>88</td>\n",
              "      <td>31</td>\n",
              "      <td>50</td>\n",
              "      <td>50</td>\n",
              "      <td>Infzns Crn Crnchers Tangy Gcamole 110g</td>\n",
              "    </tr>\n",
              "    <tr>\n",
              "      <th>15935</th>\n",
              "      <td>203</td>\n",
              "      <td>88</td>\n",
              "      <td>46</td>\n",
              "      <td>46</td>\n",
              "      <td>Kettle Honey Soy    Chicken 175g</td>\n",
              "    </tr>\n",
              "    <tr>\n",
              "      <th>17661</th>\n",
              "      <td>226</td>\n",
              "      <td>112</td>\n",
              "      <td>49</td>\n",
              "      <td>49</td>\n",
              "      <td>Tyrrells Crisps     Ched &amp; Chives 165g</td>\n",
              "    </tr>\n",
              "  </tbody>\n",
              "</table>\n",
              "</div>\n",
              "      <button class=\"colab-df-convert\" onclick=\"convertToInteractive('df-b6434142-caef-48df-a91c-555fdf5b6c4f')\"\n",
              "              title=\"Convert this dataframe to an interactive table.\"\n",
              "              style=\"display:none;\">\n",
              "        \n",
              "  <svg xmlns=\"http://www.w3.org/2000/svg\" height=\"24px\"viewBox=\"0 0 24 24\"\n",
              "       width=\"24px\">\n",
              "    <path d=\"M0 0h24v24H0V0z\" fill=\"none\"/>\n",
              "    <path d=\"M18.56 5.44l.94 2.06.94-2.06 2.06-.94-2.06-.94-.94-2.06-.94 2.06-2.06.94zm-11 1L8.5 8.5l.94-2.06 2.06-.94-2.06-.94L8.5 2.5l-.94 2.06-2.06.94zm10 10l.94 2.06.94-2.06 2.06-.94-2.06-.94-.94-2.06-.94 2.06-2.06.94z\"/><path d=\"M17.41 7.96l-1.37-1.37c-.4-.4-.92-.59-1.43-.59-.52 0-1.04.2-1.43.59L10.3 9.45l-7.72 7.72c-.78.78-.78 2.05 0 2.83L4 21.41c.39.39.9.59 1.41.59.51 0 1.02-.2 1.41-.59l7.78-7.78 2.81-2.81c.8-.78.8-2.07 0-2.86zM5.41 20L4 18.59l7.72-7.72 1.47 1.35L5.41 20z\"/>\n",
              "  </svg>\n",
              "      </button>\n",
              "      \n",
              "  <style>\n",
              "    .colab-df-container {\n",
              "      display:flex;\n",
              "      flex-wrap:wrap;\n",
              "      gap: 12px;\n",
              "    }\n",
              "\n",
              "    .colab-df-convert {\n",
              "      background-color: #E8F0FE;\n",
              "      border: none;\n",
              "      border-radius: 50%;\n",
              "      cursor: pointer;\n",
              "      display: none;\n",
              "      fill: #1967D2;\n",
              "      height: 32px;\n",
              "      padding: 0 0 0 0;\n",
              "      width: 32px;\n",
              "    }\n",
              "\n",
              "    .colab-df-convert:hover {\n",
              "      background-color: #E2EBFA;\n",
              "      box-shadow: 0px 1px 2px rgba(60, 64, 67, 0.3), 0px 1px 3px 1px rgba(60, 64, 67, 0.15);\n",
              "      fill: #174EA6;\n",
              "    }\n",
              "\n",
              "    [theme=dark] .colab-df-convert {\n",
              "      background-color: #3B4455;\n",
              "      fill: #D2E3FC;\n",
              "    }\n",
              "\n",
              "    [theme=dark] .colab-df-convert:hover {\n",
              "      background-color: #434B5C;\n",
              "      box-shadow: 0px 1px 3px 1px rgba(0, 0, 0, 0.15);\n",
              "      filter: drop-shadow(0px 1px 2px rgba(0, 0, 0, 0.3));\n",
              "      fill: #FFFFFF;\n",
              "    }\n",
              "  </style>\n",
              "\n",
              "      <script>\n",
              "        const buttonEl =\n",
              "          document.querySelector('#df-b6434142-caef-48df-a91c-555fdf5b6c4f button.colab-df-convert');\n",
              "        buttonEl.style.display =\n",
              "          google.colab.kernel.accessAllowed ? 'block' : 'none';\n",
              "\n",
              "        async function convertToInteractive(key) {\n",
              "          const element = document.querySelector('#df-b6434142-caef-48df-a91c-555fdf5b6c4f');\n",
              "          const dataTable =\n",
              "            await google.colab.kernel.invokeFunction('convertToInteractive',\n",
              "                                                     [key], {});\n",
              "          if (!dataTable) return;\n",
              "\n",
              "          const docLinkHtml = 'Like what you see? Visit the ' +\n",
              "            '<a target=\"_blank\" href=https://colab.research.google.com/notebooks/data_table.ipynb>data table notebook</a>'\n",
              "            + ' to learn more about interactive tables.';\n",
              "          element.innerHTML = '';\n",
              "          dataTable['output_type'] = 'display_data';\n",
              "          await google.colab.output.renderOutput(dataTable, element);\n",
              "          const docLink = document.createElement('div');\n",
              "          docLink.innerHTML = docLinkHtml;\n",
              "          element.appendChild(docLink);\n",
              "        }\n",
              "      </script>\n",
              "    </div>\n",
              "  </div>\n",
              "  "
            ]
          },
          "metadata": {},
          "execution_count": 94
        }
      ]
    },
    {
      "cell_type": "markdown",
      "source": [
        "The above products are outliers in terms of the maximum selling product of a store. These brands and flavours are the ones consumers have preferred the most. Placement of these products in these stores can be studied as well as further exploration of which customer segments preferred them. This can potentially help in understanding which other stores can benefit from having these items."
      ],
      "metadata": {
        "id": "BiIaNBhB_AtF"
      }
    },
    {
      "cell_type": "markdown",
      "source": [
        "3) **Breakdown of lifestages based on segments in PREMIUM_CUSTOMER** - The breakdown of lifestages w.r.t premium customer can help in understanding the affluence levels in each lifestage i.e. which lifestage is more or less budget conscious."
      ],
      "metadata": {
        "id": "tppOgowg_E93"
      }
    },
    {
      "cell_type": "code",
      "source": [
        "#setting the colours for the legend\n",
        "palette_colors = sns.color_palette('tab10')\n",
        "lifestages = purchase_transaction_df.LIFESTAGE.unique()\n",
        "palette_dict = {lifestage: color for lifestage, color in zip(lifestages, palette_colors)}\n",
        "\n",
        "ax = sns.countplot(data = purchase_transaction_df, y = 'PREMIUM_CUSTOMER', hue= 'LIFESTAGE', palette = palette_dict, hue_order= lifestages, order = purchase_transaction_df['PREMIUM_CUSTOMER'].value_counts().index)\n",
        "# add annotations\n",
        "for c in ax.containers:\n",
        "    # custom label calculates percent and add an empty string so 0 value bars don't have a number\n",
        "    labels = [f'{h:0.1f}' if (h := v.get_width()) > 0 else '' for v in c]\n",
        "    ax.bar_label(c, labels=labels, label_type='edge')\n",
        "ax.margins(x=0.2)\n",
        "plt.legend(bbox_to_anchor=(1.5, 1))\n",
        "plt.show() # display the plot"
      ],
      "metadata": {
        "colab": {
          "base_uri": "https://localhost:8080/",
          "height": 449
        },
        "id": "L5oYk1Gr_F0d",
        "outputId": "fe649087-682e-4129-bbdc-a40c343b684d"
      },
      "execution_count": 77,
      "outputs": [
        {
          "output_type": "display_data",
          "data": {
            "text/plain": [
              "<Figure size 640x480 with 1 Axes>"
            ],
            "image/png": "[encoded data removed]"
          },
          "metadata": {}
        }
      ]
    },
    {
      "cell_type": "markdown",
      "source": [
        "4) **Sales by Lifestage and Segment**: To understand the purchasing behaviour of customers, we'll look at the Sales done across different lifestages and segments to identify their buying patterns."
      ],
      "metadata": {
        "id": "m2Grobbr_Otk"
      }
    },
    {
      "cell_type": "code",
      "source": [
        "tot_sales_segment = purchase_transaction_df.groupby(['PREMIUM_CUSTOMER','LIFESTAGE'])['TOT_SALES'].sum().to_frame()\n",
        "tot_sales_segment = tot_sales_segment.reset_index()\n",
        "ax = sns.barplot(data = tot_sales_segment, x='TOT_SALES', y = 'PREMIUM_CUSTOMER', hue= 'LIFESTAGE', palette = palette_dict, hue_order= lifestages, order = purchase_transaction_df['PREMIUM_CUSTOMER'].value_counts().index)\n",
        "# add annotations\n",
        "for c in ax.containers:\n",
        "    # custom label calculates percent and add an empty string so 0 value bars don't have a number\n",
        "    labels = [f'{h:0.1f}' if (h := v.get_width()) > 0 else '' for v in c]\n",
        "    ax.bar_label(c, labels=labels, label_type='edge')\n",
        "ax.margins(x=0.2)\n",
        "plt.legend(bbox_to_anchor=(1.5, 1))\n",
        "plt.show() # display the plot"
      ],
      "metadata": {
        "colab": {
          "base_uri": "https://localhost:8080/",
          "height": 449
        },
        "id": "1V1YYUW--9To",
        "outputId": "694d5a0d-509f-4edc-f91e-673564fabc76"
      },
      "execution_count": 78,
      "outputs": [
        {
          "output_type": "display_data",
          "data": {
            "text/plain": [
              "<Figure size 640x480 with 1 Axes>"
            ],
            "image/png": "[encoded data removed]"
          },
          "metadata": {}
        }
      ]
    },
    {
      "cell_type": "markdown",
      "source": [
        "- The maximum sales are coming from Mainstream - Young Singles/Couples, Mainstream - Retirees and Budget - Older Families.\n",
        "- The Sales numbers seem to be proportional to the population within the segment. So for example, for Mainstream, Young Singles/Couples and Retirees have the maximum population which is reflected in the sales numbers as well. A similar trend is observed for the other lifestages across Mainstream, Premium and Budget customers.\n",
        "- Mainstream Young Singles/Couples have a slightly lower population than Mainstream Retirees but a slightly higher sales number. Thus to see which lifestage spends more on chips, there can be two factors:\n",
        "  - Average Price per unit of Chips is higher for the lifestage, hence a higher overall sales number.\n",
        "  - Number of Chips bought per customer are higher hence a higher overall sales number.\n",
        "We'll look at both these factors for all the lifestages to further examine their purchase behaviour."
      ],
      "metadata": {
        "id": "7dnEc5aN_UQU"
      }
    },
    {
      "cell_type": "markdown",
      "source": [
        "5) **Number of Chips bought per customer by lifestage and segments**"
      ],
      "metadata": {
        "id": "LReqZf6R_ZG8"
      }
    },
    {
      "cell_type": "code",
      "source": [
        "#calculating the number of products per customer for each lifestage\n",
        "number_products_per_segment = purchase_transaction_df.groupby(['PREMIUM_CUSTOMER','LIFESTAGE'])['PROD_QTY'].sum().to_frame().reset_index()\n",
        "number_customers_per_segment = purchase_transaction_df.groupby(['PREMIUM_CUSTOMER','LIFESTAGE']).size().to_frame().reset_index()\n",
        "number_customers_per_segment = number_customers_per_segment.rename(columns={0:'Number_of_Customers'})\n",
        "number_products_per_segment['Products_per_Customer'] = number_products_per_segment['PROD_QTY']/number_customers_per_segment['Number_of_Customers']\n",
        "\n",
        "#plotting the result\n",
        "ax = sns.barplot(data = number_products_per_segment, x='Products_per_Customer', y = 'PREMIUM_CUSTOMER', hue= 'LIFESTAGE', palette = palette_dict, hue_order= lifestages, order = purchase_transaction_df['PREMIUM_CUSTOMER'].value_counts().index)\n",
        "for c in ax.containers:\n",
        "    # custom label calculates percent and add an empty string so 0 value bars don't have a number\n",
        "    labels = [f'{h:0.3f}' if (h := v.get_width()) > 0 else '' for v in c]\n",
        "    ax.bar_label(c, labels=labels, label_type='edge')\n",
        "ax.margins(x=0.2)\n",
        "plt.legend(bbox_to_anchor=(1.5, 1))\n",
        "plt.show() # display the plot\n"
      ],
      "metadata": {
        "colab": {
          "base_uri": "https://localhost:8080/",
          "height": 450
        },
        "id": "Agm7lEJ1_cL9",
        "outputId": "c5bae26b-a62b-4ee2-d870-748711da07e4"
      },
      "execution_count": 79,
      "outputs": [
        {
          "output_type": "display_data",
          "data": {
            "text/plain": [
              "<Figure size 640x480 with 1 Axes>"
            ],
            "image/png": "[encoded data removed]"
          },
          "metadata": {}
        }
      ]
    },
    {
      "cell_type": "markdown",
      "source": [
        "- Older Families and Young Families generally purchase more products per customer than other lifestages\n",
        "- For MainStream Young Singles/Couples, the prodcuts purchased per customer is lesser than other lifestages but the overall sales were more. This might indicate that they are average spend is higher which we'll investigate next."
      ],
      "metadata": {
        "id": "2oqbtwCT_f75"
      }
    },
    {
      "cell_type": "markdown",
      "source": [
        "6) **Average sales per customer by lifestage and segment**"
      ],
      "metadata": {
        "id": "MiXWF7Wj_kAM"
      }
    },
    {
      "cell_type": "code",
      "source": [
        "#calculating the number of products per customer for each lifestage\n",
        "tot_sales_segment['Average_Sales_per_Customer'] = tot_sales_segment['TOT_SALES']/number_customers_per_segment['Number_of_Customers']\n",
        "\n",
        "#plotting the result\n",
        "ax = sns.barplot(data = tot_sales_segment, x='Average_Sales_per_Customer', y = 'PREMIUM_CUSTOMER', hue= 'LIFESTAGE', palette = palette_dict, hue_order= lifestages, order = purchase_transaction_df['PREMIUM_CUSTOMER'].value_counts().index)\n",
        "for c in ax.containers:\n",
        "    # custom label calculates percent and add an empty string so 0 value bars don't have a number\n",
        "    labels = [f'{h:0.3f}' if (h := v.get_width()) > 0 else '' for v in c]\n",
        "    ax.bar_label(c, labels=labels, label_type='edge')\n",
        "ax.margins(x=0.2)\n",
        "plt.legend(bbox_to_anchor=(1.5, 1))\n",
        "plt.show() # display the plot"
      ],
      "metadata": {
        "colab": {
          "base_uri": "https://localhost:8080/",
          "height": 450
        },
        "id": "qs-LKRKp_mvA",
        "outputId": "f47bef45-861a-41db-83b3-a1c76a54b234"
      },
      "execution_count": 81,
      "outputs": [
        {
          "output_type": "display_data",
          "data": {
            "text/plain": [
              "<Figure size 640x480 with 1 Axes>"
            ],
            "image/png": "[encoded data removed]"
          },
          "metadata": {}
        }
      ]
    },
    {
      "cell_type": "markdown",
      "source": [
        "- Mainstream Young Singles/Couples and Mainstream Midage Singles/Couples have the highest average sales per customers spending more than their counterparts in Budget and Premium.\n",
        "- In both Budget and Premium category, older singles/couples and retirees have the highest average spend with the average sales amount similar in both categories.\n",
        "- For the other lifestages apart from the ones mentioned above, the spend is similar across the three categories. So we'll compare whether the difference between the spend for Mainstream Young Singles/Couples and Midage Singles/Couples with their budget and premium counterparts is significant or not."
      ],
      "metadata": {
        "id": "h7HApyf7_s0z"
      }
    },
    {
      "cell_type": "markdown",
      "source": [
        "7) **Comparing Mainstream Young Singles/Couples with their Budget and Premium counterparts**\n",
        "\n",
        "Since the Budget and Premium spend is the same we'll just compare one of them with Mainstream Young Singles/Couples.\n",
        "\n",
        "Establishing our Null and Alternate Hypothesis.\n",
        "\n",
        "$\\mu_1$ = Average Price of Mainstream Young Singles/Couples\n",
        "\n",
        "$\\mu_2$ = Average Price of Premium/Budget Young Singles/Couples\n",
        "\n",
        "Null:\n",
        ">$H_0:\\mu_1=\\mu_2$\n",
        "\n",
        "Alternate:\n",
        ">$H_a:\\mu_1>\\mu_2$"
      ],
      "metadata": {
        "id": "LYxOSbAd_wHP"
      }
    },
    {
      "cell_type": "code",
      "source": [
        "Mainstream_young = purchase_transaction_df[(purchase_transaction_df['LIFESTAGE'] == 'YOUNG SINGLES/COUPLES') & (purchase_transaction_df['PREMIUM_CUSTOMER'] == 'Mainstream')]['TOT_SALES']\n",
        "Premium_young = purchase_transaction_df[(purchase_transaction_df['LIFESTAGE'] == 'YOUNG SINGLES/COUPLES') & (purchase_transaction_df['PREMIUM_CUSTOMER'] == 'Premium')]['TOT_SALES']\n",
        "\n",
        "#checking the standard deviation of sales of Mainstream young singles/couples and premium young singles/couples to decide the type of t-test\n",
        "print('Standard deviation of Mainstream Young Singles/Couples', Mainstream_young.std())\n",
        "print('Standard deviation of Premium Young Singles/Couples', Premium_young.std())"
      ],
      "metadata": {
        "colab": {
          "base_uri": "https://localhost:8080/"
        },
        "id": "0jJ2DM8c_yyf",
        "outputId": "3a806412-92a5-4940-e190-298f8cb7b108"
      },
      "execution_count": null,
      "outputs": [
        {
          "output_type": "stream",
          "name": "stdout",
          "text": [
            "Standard deviation of Mainstream Young Singles/Couples 2.463408855561709\n",
            "Standard deviation of Premium Young Singles/Couples 2.6447285896630532\n"
          ]
        }
      ]
    },
    {
      "cell_type": "markdown",
      "source": [
        "given the standard deviation of Mainstream Young Singles/Couples and Premium/Budget Young Singles/Couples are not equal we'll go with the unequal std t-test(Welch's t-test).\n",
        "\n",
        "Assumptions of t-test:\n",
        "- Continous Data: The data we are dealing with are price of items purchased by customers which is continous\n",
        "- Normally distributed populations: Since the sample size is > 30, so according to Central Limit Theorem the distrbution of sample means will be normal.\n",
        "- Independent populations: As we are taking random samples for two different types of users, the two samples are from two independent populations.\n",
        "- Unequal population standard deviations: As the sample standard deviations are unequal, the population standard deviations can be assumed to be unequal.\n",
        "- Since we have no information of data collection, in this case given the above conditions we are assuming this sample as a simple random sample.\n",
        "\n",
        "Given the assumption of the t-test are met we can proceed with the test. Assuming a significance level of 5%"
      ],
      "metadata": {
        "id": "KLRKN1RZ_2VJ"
      }
    },
    {
      "cell_type": "code",
      "source": [
        "# find the p-value\n",
        "test_stat, p_value = ttest_ind(Mainstream_young, Premium_young, equal_var = False, alternative = 'greater')\n",
        "print('The p-value is ', float(p_value))"
      ],
      "metadata": {
        "colab": {
          "base_uri": "https://localhost:8080/"
        },
        "id": "d_zXNQe5_6Rq",
        "outputId": "121e6207-7385-4ef2-f25a-41ed7bc3aebd"
      },
      "execution_count": null,
      "outputs": [
        {
          "output_type": "stream",
          "name": "stdout",
          "text": [
            "The p-value is  4.74302373424734e-109\n"
          ]
        }
      ]
    },
    {
      "cell_type": "markdown",
      "source": [
        "Based on the above p-value which is much less than 0.05, we can say that the Average price per unit spent for Mainstream Young Singles/Couples is higher than their Budget/Premium counterparts and the difference is statistically significant.\n",
        "\n",
        "Now doing the same calculations as above for Mainstream Midage Singles/Couples vs their Premium/Budget Counterparts."
      ],
      "metadata": {
        "id": "EcY0J1ilWIVn"
      }
    },
    {
      "cell_type": "markdown",
      "source": [
        "Since the Budget and Premium spend is the same we'll just compare one of them with Mainstream Midage Singles/Couples.\n",
        "\n",
        "Establishing our Null and Alternate Hypothesis.\n",
        "\n",
        "$\\mu_1$ = Average Price of Mainstream Midage Singles/Couples\n",
        "\n",
        "$\\mu_2$ = Average Price of Premium/Budget Midage Singles/Couples\n",
        "\n",
        "Null:\n",
        ">$H_0:\\mu_1=\\mu_2$\n",
        "\n",
        "Alternate:\n",
        ">$H_a:\\mu_1>\\mu_2$"
      ],
      "metadata": {
        "id": "rIDpzUajWKnr"
      }
    },
    {
      "cell_type": "code",
      "source": [
        "Mainstream_midage = purchase_transaction_df[(purchase_transaction_df['LIFESTAGE'] == 'MIDAGE SINGLES/COUPLES') & (purchase_transaction_df['PREMIUM_CUSTOMER'] == 'Mainstream')]['TOT_SALES']\n",
        "Premium_midage = purchase_transaction_df[(purchase_transaction_df['LIFESTAGE'] == 'MIDAGE SINGLES/COUPLES') & (purchase_transaction_df['PREMIUM_CUSTOMER'] == 'Premium')]['TOT_SALES']\n",
        "\n",
        "#checking the standard deviation of sales of Mainstream young singles/couples and premium young singles/couples to decide the type of t-test\n",
        "print('Standard deviation of Mainstream Young Singles/Couples', Mainstream_midage.std())\n",
        "print('Standard deviation of Premium Young Singles/Couples', Premium_midage.std())"
      ],
      "metadata": {
        "colab": {
          "base_uri": "https://localhost:8080/"
        },
        "id": "WGUDQdMnWNXF",
        "outputId": "d44f2296-8c0e-4358-c9e9-66f156c690fc"
      },
      "execution_count": null,
      "outputs": [
        {
          "output_type": "stream",
          "name": "stdout",
          "text": [
            "Standard deviation of Mainstream Young Singles/Couples 2.411545629145507\n",
            "Standard deviation of Premium Young Singles/Couples 2.527713382035746\n"
          ]
        }
      ]
    },
    {
      "cell_type": "markdown",
      "source": [
        "Assuming the above assumptions of the t-test in case of Mainstream Young Singles/Couples should be valid be Mainstream Midage Singles/Couples as well. Thus proceeding towards calculating the p-value at a significance level of 5%."
      ],
      "metadata": {
        "id": "RhGaUfRCWPpt"
      }
    },
    {
      "cell_type": "code",
      "source": [
        "# find the p-value\n",
        "test_stat, p_value = ttest_ind(Mainstream_midage, Premium_midage, equal_var = False, alternative = 'greater')\n",
        "print('The p-value is ', float(p_value))"
      ],
      "metadata": {
        "colab": {
          "base_uri": "https://localhost:8080/"
        },
        "id": "egLYyrih_1aG",
        "outputId": "89cde313-2c9d-4f92-85d2-b5af96539df4"
      },
      "execution_count": null,
      "outputs": [
        {
          "output_type": "stream",
          "name": "stdout",
          "text": [
            "The p-value is  2.2886822412011976e-39\n"
          ]
        }
      ]
    },
    {
      "cell_type": "markdown",
      "source": [
        "Based on the above p-value which is much less than 0.05, we can say that the Average price per unit spent for Mainstream Midage Singles/Couples is higher than their Budget/Premium counterparts and the difference is statistically significant."
      ],
      "metadata": {
        "id": "FVgnM3fuWUQv"
      }
    },
    {
      "cell_type": "markdown",
      "source": [
        "8) **Deep Dive into identified Segments:** From the above metrics, we have identified some segments that have either a higher sales, higher average spend or higher number of products purchased per customer. We'll look at their preferences, such as preferred brands and preferred package size.\n",
        "\n"
      ],
      "metadata": {
        "id": "LdThBwszWW10"
      }
    },
    {
      "cell_type": "code",
      "source": [
        "#extracting the first name to get the brand name\n",
        "brand_names= purchase_transaction_df['PROD_NAME'].str.split(\" \").to_frame()['PROD_NAME'].str[0:1].to_frame()\n",
        "brand_names = brand_names['PROD_NAME'].str.join(' ').to_frame()\n",
        "brand_names['PROD_NAME'].unique()"
      ],
      "metadata": {
        "colab": {
          "base_uri": "https://localhost:8080/"
        },
        "id": "nmMTxxWkWeY3",
        "outputId": "063fb33f-90a2-427a-a238-482f703a0553"
      },
      "execution_count": null,
      "outputs": [
        {
          "output_type": "execute_result",
          "data": {
            "text/plain": [
              "array(['Natural', 'CCs', 'Smiths', 'Kettle', 'Grain', 'Doritos',\n",
              "       'Twisties', 'WW', 'Thins', 'Burger', 'NCC', 'Cheezels', 'Infzns',\n",
              "       'Red', 'Pringles', 'Dorito', 'Infuzions', 'Smith', 'GrnWves',\n",
              "       'Tyrrells', 'Cobs', 'French', 'RRD', 'Tostitos', 'Cheetos',\n",
              "       'Woolworths', 'Snbts', 'Sunbites'], dtype=object)"
            ]
          },
          "metadata": {},
          "execution_count": 13
        }
      ]
    },
    {
      "cell_type": "markdown",
      "source": [
        "From the list of brand names above, we can see that some brand names are the same but have different abbrevations like Red(Red rock deli) and RRD are the same and the same can be said about Infzns and Infuzions, Dorito and Doritos etc."
      ],
      "metadata": {
        "id": "w-hNISjaWg5L"
      }
    },
    {
      "cell_type": "code",
      "source": [
        "# adjusting the brand names\n",
        "brand_names.loc[brand_names['PROD_NAME'] == 'Grain', 'PROD_NAME'] = 'GrnWves'\n",
        "brand_names.loc[brand_names['PROD_NAME'] == 'Red', 'PROD_NAME'] = 'RRD'\n",
        "brand_names.loc[brand_names['PROD_NAME'] == 'Dorito', 'PROD_NAME'] = 'Doritos'\n",
        "brand_names.loc[brand_names['PROD_NAME'] == 'Snbts', 'PROD_NAME'] = 'Sunbites'\n",
        "brand_names.loc[brand_names['PROD_NAME'] == 'Smith', 'PROD_NAME'] = 'Smiths'\n",
        "brand_names.loc[brand_names['PROD_NAME'] == 'Infzns', 'PROD_NAME'] = 'Infuzions'\n",
        "brand_names.loc[brand_names['PROD_NAME'] == 'NCC', 'PROD_NAME'] = 'Natural'"
      ],
      "metadata": {
        "id": "Pgj2eJHjWi3h"
      },
      "execution_count": null,
      "outputs": []
    },
    {
      "cell_type": "code",
      "source": [
        "#adding the column to our main dataset\n",
        "purchase_transaction_df['Brand_Name'] = brand_names\n",
        "purchase_transaction_df.head()"
      ],
      "metadata": {
        "colab": {
          "base_uri": "https://localhost:8080/",
          "height": 206
        },
        "id": "-vSS-yE0_p5i",
        "outputId": "d506487b-14de-4717-ee7d-faf50fd6655e"
      },
      "execution_count": null,
      "outputs": [
        {
          "output_type": "execute_result",
          "data": {
            "text/plain": [
              "   LYLTY_CARD_NBR               LIFESTAGE PREMIUM_CUSTOMER       DATE  \\\n",
              "0            1000   YOUNG SINGLES/COUPLES          Premium 2018-10-17   \n",
              "1            1307  MIDAGE SINGLES/COUPLES           Budget 2019-05-14   \n",
              "2            1343  MIDAGE SINGLES/COUPLES           Budget 2019-05-20   \n",
              "3            2373  MIDAGE SINGLES/COUPLES           Budget 2018-08-17   \n",
              "4            2426  MIDAGE SINGLES/COUPLES           Budget 2018-08-18   \n",
              "\n",
              "   STORE_NBR  TXN_ID  PROD_NBR                                 PROD_NAME  \\\n",
              "0          1       1         5    Natural Chip        Compny SeaSalt175g   \n",
              "1          1     348        66                  CCs Nacho Cheese    175g   \n",
              "2          1     383        61    Smiths Crinkle Cut  Chips Chicken 170g   \n",
              "3          2     974        69    Smiths Chip Thinly  S/Cream&Onion 175g   \n",
              "4          2    1038       108  Kettle Tortilla ChpsHny&Jlpno Chili 150g   \n",
              "\n",
              "   PROD_QTY  TOT_SALES Brand_Name  \n",
              "0         2        6.0    Natural  \n",
              "1         3        6.3        CCs  \n",
              "2         2        2.9     Smiths  \n",
              "3         5       15.0     Smiths  \n",
              "4         3       13.8     Kettle  "
            ],
            "text/html": [
              "\n",
              "  <div id=\"df-8783fac3-ba47-4f61-b40f-81180925bd37\">\n",
              "    <div class=\"colab-df-container\">\n",
              "      <div>\n",
              "<style scoped>\n",
              "    .dataframe tbody tr th:only-of-type {\n",
              "        vertical-align: middle;\n",
              "    }\n",
              "\n",
              "    .dataframe tbody tr th {\n",
              "        vertical-align: top;\n",
              "    }\n",
              "\n",
              "    .dataframe thead th {\n",
              "        text-align: right;\n",
              "    }\n",
              "</style>\n",
              "<table border=\"1\" class=\"dataframe\">\n",
              "  <thead>\n",
              "    <tr style=\"text-align: right;\">\n",
              "      <th></th>\n",
              "      <th>LYLTY_CARD_NBR</th>\n",
              "      <th>LIFESTAGE</th>\n",
              "      <th>PREMIUM_CUSTOMER</th>\n",
              "      <th>DATE</th>\n",
              "      <th>STORE_NBR</th>\n",
              "      <th>TXN_ID</th>\n",
              "      <th>PROD_NBR</th>\n",
              "      <th>PROD_NAME</th>\n",
              "      <th>PROD_QTY</th>\n",
              "      <th>TOT_SALES</th>\n",
              "      <th>Brand_Name</th>\n",
              "    </tr>\n",
              "  </thead>\n",
              "  <tbody>\n",
              "    <tr>\n",
              "      <th>0</th>\n",
              "      <td>1000</td>\n",
              "      <td>YOUNG SINGLES/COUPLES</td>\n",
              "      <td>Premium</td>\n",
              "      <td>2018-10-17</td>\n",
              "      <td>1</td>\n",
              "      <td>1</td>\n",
              "      <td>5</td>\n",
              "      <td>Natural Chip        Compny SeaSalt175g</td>\n",
              "      <td>2</td>\n",
              "      <td>6.0</td>\n",
              "      <td>Natural</td>\n",
              "    </tr>\n",
              "    <tr>\n",
              "      <th>1</th>\n",
              "      <td>1307</td>\n",
              "      <td>MIDAGE SINGLES/COUPLES</td>\n",
              "      <td>Budget</td>\n",
              "      <td>2019-05-14</td>\n",
              "      <td>1</td>\n",
              "      <td>348</td>\n",
              "      <td>66</td>\n",
              "      <td>CCs Nacho Cheese    175g</td>\n",
              "      <td>3</td>\n",
              "      <td>6.3</td>\n",
              "      <td>CCs</td>\n",
              "    </tr>\n",
              "    <tr>\n",
              "      <th>2</th>\n",
              "      <td>1343</td>\n",
              "      <td>MIDAGE SINGLES/COUPLES</td>\n",
              "      <td>Budget</td>\n",
              "      <td>2019-05-20</td>\n",
              "      <td>1</td>\n",
              "      <td>383</td>\n",
              "      <td>61</td>\n",
              "      <td>Smiths Crinkle Cut  Chips Chicken 170g</td>\n",
              "      <td>2</td>\n",
              "      <td>2.9</td>\n",
              "      <td>Smiths</td>\n",
              "    </tr>\n",
              "    <tr>\n",
              "      <th>3</th>\n",
              "      <td>2373</td>\n",
              "      <td>MIDAGE SINGLES/COUPLES</td>\n",
              "      <td>Budget</td>\n",
              "      <td>2018-08-17</td>\n",
              "      <td>2</td>\n",
              "      <td>974</td>\n",
              "      <td>69</td>\n",
              "      <td>Smiths Chip Thinly  S/Cream&amp;Onion 175g</td>\n",
              "      <td>5</td>\n",
              "      <td>15.0</td>\n",
              "      <td>Smiths</td>\n",
              "    </tr>\n",
              "    <tr>\n",
              "      <th>4</th>\n",
              "      <td>2426</td>\n",
              "      <td>MIDAGE SINGLES/COUPLES</td>\n",
              "      <td>Budget</td>\n",
              "      <td>2018-08-18</td>\n",
              "      <td>2</td>\n",
              "      <td>1038</td>\n",
              "      <td>108</td>\n",
              "      <td>Kettle Tortilla ChpsHny&amp;Jlpno Chili 150g</td>\n",
              "      <td>3</td>\n",
              "      <td>13.8</td>\n",
              "      <td>Kettle</td>\n",
              "    </tr>\n",
              "  </tbody>\n",
              "</table>\n",
              "</div>\n",
              "      <button class=\"colab-df-convert\" onclick=\"convertToInteractive('df-8783fac3-ba47-4f61-b40f-81180925bd37')\"\n",
              "              title=\"Convert this dataframe to an interactive table.\"\n",
              "              style=\"display:none;\">\n",
              "        \n",
              "  <svg xmlns=\"http://www.w3.org/2000/svg\" height=\"24px\"viewBox=\"0 0 24 24\"\n",
              "       width=\"24px\">\n",
              "    <path d=\"M0 0h24v24H0V0z\" fill=\"none\"/>\n",
              "    <path d=\"M18.56 5.44l.94 2.06.94-2.06 2.06-.94-2.06-.94-.94-2.06-.94 2.06-2.06.94zm-11 1L8.5 8.5l.94-2.06 2.06-.94-2.06-.94L8.5 2.5l-.94 2.06-2.06.94zm10 10l.94 2.06.94-2.06 2.06-.94-2.06-.94-.94-2.06-.94 2.06-2.06.94z\"/><path d=\"M17.41 7.96l-1.37-1.37c-.4-.4-.92-.59-1.43-.59-.52 0-1.04.2-1.43.59L10.3 9.45l-7.72 7.72c-.78.78-.78 2.05 0 2.83L4 21.41c.39.39.9.59 1.41.59.51 0 1.02-.2 1.41-.59l7.78-7.78 2.81-2.81c.8-.78.8-2.07 0-2.86zM5.41 20L4 18.59l7.72-7.72 1.47 1.35L5.41 20z\"/>\n",
              "  </svg>\n",
              "      </button>\n",
              "      \n",
              "  <style>\n",
              "    .colab-df-container {\n",
              "      display:flex;\n",
              "      flex-wrap:wrap;\n",
              "      gap: 12px;\n",
              "    }\n",
              "\n",
              "    .colab-df-convert {\n",
              "      background-color: #E8F0FE;\n",
              "      border: none;\n",
              "      border-radius: 50%;\n",
              "      cursor: pointer;\n",
              "      display: none;\n",
              "      fill: #1967D2;\n",
              "      height: 32px;\n",
              "      padding: 0 0 0 0;\n",
              "      width: 32px;\n",
              "    }\n",
              "\n",
              "    .colab-df-convert:hover {\n",
              "      background-color: #E2EBFA;\n",
              "      box-shadow: 0px 1px 2px rgba(60, 64, 67, 0.3), 0px 1px 3px 1px rgba(60, 64, 67, 0.15);\n",
              "      fill: #174EA6;\n",
              "    }\n",
              "\n",
              "    [theme=dark] .colab-df-convert {\n",
              "      background-color: #3B4455;\n",
              "      fill: #D2E3FC;\n",
              "    }\n",
              "\n",
              "    [theme=dark] .colab-df-convert:hover {\n",
              "      background-color: #434B5C;\n",
              "      box-shadow: 0px 1px 3px 1px rgba(0, 0, 0, 0.15);\n",
              "      filter: drop-shadow(0px 1px 2px rgba(0, 0, 0, 0.3));\n",
              "      fill: #FFFFFF;\n",
              "    }\n",
              "  </style>\n",
              "\n",
              "      <script>\n",
              "        const buttonEl =\n",
              "          document.querySelector('#df-8783fac3-ba47-4f61-b40f-81180925bd37 button.colab-df-convert');\n",
              "        buttonEl.style.display =\n",
              "          google.colab.kernel.accessAllowed ? 'block' : 'none';\n",
              "\n",
              "        async function convertToInteractive(key) {\n",
              "          const element = document.querySelector('#df-8783fac3-ba47-4f61-b40f-81180925bd37');\n",
              "          const dataTable =\n",
              "            await google.colab.kernel.invokeFunction('convertToInteractive',\n",
              "                                                     [key], {});\n",
              "          if (!dataTable) return;\n",
              "\n",
              "          const docLinkHtml = 'Like what you see? Visit the ' +\n",
              "            '<a target=\"_blank\" href=https://colab.research.google.com/notebooks/data_table.ipynb>data table notebook</a>'\n",
              "            + ' to learn more about interactive tables.';\n",
              "          element.innerHTML = '';\n",
              "          dataTable['output_type'] = 'display_data';\n",
              "          await google.colab.output.renderOutput(dataTable, element);\n",
              "          const docLink = document.createElement('div');\n",
              "          docLink.innerHTML = docLinkHtml;\n",
              "          element.appendChild(docLink);\n",
              "        }\n",
              "      </script>\n",
              "    </div>\n",
              "  </div>\n",
              "  "
            ]
          },
          "metadata": {},
          "execution_count": 15
        }
      ]
    },
    {
      "cell_type": "code",
      "source": [
        "brand_names = brand_names['PROD_NAME'].unique()\n",
        "brand_names"
      ],
      "metadata": {
        "colab": {
          "base_uri": "https://localhost:8080/"
        },
        "id": "PfCRRPE9Etuq",
        "outputId": "bae80b32-0199-432c-b178-3356a2033403"
      },
      "execution_count": null,
      "outputs": [
        {
          "output_type": "execute_result",
          "data": {
            "text/plain": [
              "array(['Natural', 'CCs', 'Smiths', 'Kettle', 'GrnWves', 'Doritos',\n",
              "       'Twisties', 'WW', 'Thins', 'Burger', 'Cheezels', 'Infuzions',\n",
              "       'RRD', 'Pringles', 'Tyrrells', 'Cobs', 'French', 'Tostitos',\n",
              "       'Cheetos', 'Woolworths', 'Sunbites'], dtype=object)"
            ]
          },
          "metadata": {},
          "execution_count": 16
        }
      ]
    },
    {
      "cell_type": "code",
      "source": [
        "#extracting the digits of pack size from the product names\n",
        "product_size= purchase_transaction_df['PROD_NAME'].str.extract('(\\d+)')\n",
        "purchase_transaction_df['product_size'] = product_size\n",
        "purchase_transaction_df.head()"
      ],
      "metadata": {
        "colab": {
          "base_uri": "https://localhost:8080/",
          "height": 337
        },
        "id": "uhJXB4KIWt9v",
        "outputId": "c0d6ba38-4323-4c8c-8aa4-80ca89323170"
      },
      "execution_count": null,
      "outputs": [
        {
          "output_type": "execute_result",
          "data": {
            "text/plain": [
              "   LYLTY_CARD_NBR               LIFESTAGE PREMIUM_CUSTOMER       DATE  \\\n",
              "0            1000   YOUNG SINGLES/COUPLES          Premium 2018-10-17   \n",
              "1            1307  MIDAGE SINGLES/COUPLES           Budget 2019-05-14   \n",
              "2            1343  MIDAGE SINGLES/COUPLES           Budget 2019-05-20   \n",
              "3            2373  MIDAGE SINGLES/COUPLES           Budget 2018-08-17   \n",
              "4            2426  MIDAGE SINGLES/COUPLES           Budget 2018-08-18   \n",
              "\n",
              "   STORE_NBR  TXN_ID  PROD_NBR                                 PROD_NAME  \\\n",
              "0          1       1         5    Natural Chip        Compny SeaSalt175g   \n",
              "1          1     348        66                  CCs Nacho Cheese    175g   \n",
              "2          1     383        61    Smiths Crinkle Cut  Chips Chicken 170g   \n",
              "3          2     974        69    Smiths Chip Thinly  S/Cream&Onion 175g   \n",
              "4          2    1038       108  Kettle Tortilla ChpsHny&Jlpno Chili 150g   \n",
              "\n",
              "   PROD_QTY  TOT_SALES Brand_Name product_size  \n",
              "0         2        6.0    Natural          175  \n",
              "1         3        6.3        CCs          175  \n",
              "2         2        2.9     Smiths          170  \n",
              "3         5       15.0     Smiths          175  \n",
              "4         3       13.8     Kettle          150  "
            ],
            "text/html": [
              "\n",
              "  <div id=\"df-ef76cd13-81f9-4504-b538-0288d92698ce\">\n",
              "    <div class=\"colab-df-container\">\n",
              "      <div>\n",
              "<style scoped>\n",
              "    .dataframe tbody tr th:only-of-type {\n",
              "        vertical-align: middle;\n",
              "    }\n",
              "\n",
              "    .dataframe tbody tr th {\n",
              "        vertical-align: top;\n",
              "    }\n",
              "\n",
              "    .dataframe thead th {\n",
              "        text-align: right;\n",
              "    }\n",
              "</style>\n",
              "<table border=\"1\" class=\"dataframe\">\n",
              "  <thead>\n",
              "    <tr style=\"text-align: right;\">\n",
              "      <th></th>\n",
              "      <th>LYLTY_CARD_NBR</th>\n",
              "      <th>LIFESTAGE</th>\n",
              "      <th>PREMIUM_CUSTOMER</th>\n",
              "      <th>DATE</th>\n",
              "      <th>STORE_NBR</th>\n",
              "      <th>TXN_ID</th>\n",
              "      <th>PROD_NBR</th>\n",
              "      <th>PROD_NAME</th>\n",
              "      <th>PROD_QTY</th>\n",
              "      <th>TOT_SALES</th>\n",
              "      <th>Brand_Name</th>\n",
              "      <th>product_size</th>\n",
              "    </tr>\n",
              "  </thead>\n",
              "  <tbody>\n",
              "    <tr>\n",
              "      <th>0</th>\n",
              "      <td>1000</td>\n",
              "      <td>YOUNG SINGLES/COUPLES</td>\n",
              "      <td>Premium</td>\n",
              "      <td>2018-10-17</td>\n",
              "      <td>1</td>\n",
              "      <td>1</td>\n",
              "      <td>5</td>\n",
              "      <td>Natural Chip        Compny SeaSalt175g</td>\n",
              "      <td>2</td>\n",
              "      <td>6.0</td>\n",
              "      <td>Natural</td>\n",
              "      <td>175</td>\n",
              "    </tr>\n",
              "    <tr>\n",
              "      <th>1</th>\n",
              "      <td>1307</td>\n",
              "      <td>MIDAGE SINGLES/COUPLES</td>\n",
              "      <td>Budget</td>\n",
              "      <td>2019-05-14</td>\n",
              "      <td>1</td>\n",
              "      <td>348</td>\n",
              "      <td>66</td>\n",
              "      <td>CCs Nacho Cheese    175g</td>\n",
              "      <td>3</td>\n",
              "      <td>6.3</td>\n",
              "      <td>CCs</td>\n",
              "      <td>175</td>\n",
              "    </tr>\n",
              "    <tr>\n",
              "      <th>2</th>\n",
              "      <td>1343</td>\n",
              "      <td>MIDAGE SINGLES/COUPLES</td>\n",
              "      <td>Budget</td>\n",
              "      <td>2019-05-20</td>\n",
              "      <td>1</td>\n",
              "      <td>383</td>\n",
              "      <td>61</td>\n",
              "      <td>Smiths Crinkle Cut  Chips Chicken 170g</td>\n",
              "      <td>2</td>\n",
              "      <td>2.9</td>\n",
              "      <td>Smiths</td>\n",
              "      <td>170</td>\n",
              "    </tr>\n",
              "    <tr>\n",
              "      <th>3</th>\n",
              "      <td>2373</td>\n",
              "      <td>MIDAGE SINGLES/COUPLES</td>\n",
              "      <td>Budget</td>\n",
              "      <td>2018-08-17</td>\n",
              "      <td>2</td>\n",
              "      <td>974</td>\n",
              "      <td>69</td>\n",
              "      <td>Smiths Chip Thinly  S/Cream&amp;Onion 175g</td>\n",
              "      <td>5</td>\n",
              "      <td>15.0</td>\n",
              "      <td>Smiths</td>\n",
              "      <td>175</td>\n",
              "    </tr>\n",
              "    <tr>\n",
              "      <th>4</th>\n",
              "      <td>2426</td>\n",
              "      <td>MIDAGE SINGLES/COUPLES</td>\n",
              "      <td>Budget</td>\n",
              "      <td>2018-08-18</td>\n",
              "      <td>2</td>\n",
              "      <td>1038</td>\n",
              "      <td>108</td>\n",
              "      <td>Kettle Tortilla ChpsHny&amp;Jlpno Chili 150g</td>\n",
              "      <td>3</td>\n",
              "      <td>13.8</td>\n",
              "      <td>Kettle</td>\n",
              "      <td>150</td>\n",
              "    </tr>\n",
              "  </tbody>\n",
              "</table>\n",
              "</div>\n",
              "      <button class=\"colab-df-convert\" onclick=\"convertToInteractive('df-ef76cd13-81f9-4504-b538-0288d92698ce')\"\n",
              "              title=\"Convert this dataframe to an interactive table.\"\n",
              "              style=\"display:none;\">\n",
              "        \n",
              "  <svg xmlns=\"http://www.w3.org/2000/svg\" height=\"24px\"viewBox=\"0 0 24 24\"\n",
              "       width=\"24px\">\n",
              "    <path d=\"M0 0h24v24H0V0z\" fill=\"none\"/>\n",
              "    <path d=\"M18.56 5.44l.94 2.06.94-2.06 2.06-.94-2.06-.94-.94-2.06-.94 2.06-2.06.94zm-11 1L8.5 8.5l.94-2.06 2.06-.94-2.06-.94L8.5 2.5l-.94 2.06-2.06.94zm10 10l.94 2.06.94-2.06 2.06-.94-2.06-.94-.94-2.06-.94 2.06-2.06.94z\"/><path d=\"M17.41 7.96l-1.37-1.37c-.4-.4-.92-.59-1.43-.59-.52 0-1.04.2-1.43.59L10.3 9.45l-7.72 7.72c-.78.78-.78 2.05 0 2.83L4 21.41c.39.39.9.59 1.41.59.51 0 1.02-.2 1.41-.59l7.78-7.78 2.81-2.81c.8-.78.8-2.07 0-2.86zM5.41 20L4 18.59l7.72-7.72 1.47 1.35L5.41 20z\"/>\n",
              "  </svg>\n",
              "      </button>\n",
              "      \n",
              "  <style>\n",
              "    .colab-df-container {\n",
              "      display:flex;\n",
              "      flex-wrap:wrap;\n",
              "      gap: 12px;\n",
              "    }\n",
              "\n",
              "    .colab-df-convert {\n",
              "      background-color: #E8F0FE;\n",
              "      border: none;\n",
              "      border-radius: 50%;\n",
              "      cursor: pointer;\n",
              "      display: none;\n",
              "      fill: #1967D2;\n",
              "      height: 32px;\n",
              "      padding: 0 0 0 0;\n",
              "      width: 32px;\n",
              "    }\n",
              "\n",
              "    .colab-df-convert:hover {\n",
              "      background-color: #E2EBFA;\n",
              "      box-shadow: 0px 1px 2px rgba(60, 64, 67, 0.3), 0px 1px 3px 1px rgba(60, 64, 67, 0.15);\n",
              "      fill: #174EA6;\n",
              "    }\n",
              "\n",
              "    [theme=dark] .colab-df-convert {\n",
              "      background-color: #3B4455;\n",
              "      fill: #D2E3FC;\n",
              "    }\n",
              "\n",
              "    [theme=dark] .colab-df-convert:hover {\n",
              "      background-color: #434B5C;\n",
              "      box-shadow: 0px 1px 3px 1px rgba(0, 0, 0, 0.15);\n",
              "      filter: drop-shadow(0px 1px 2px rgba(0, 0, 0, 0.3));\n",
              "      fill: #FFFFFF;\n",
              "    }\n",
              "  </style>\n",
              "\n",
              "      <script>\n",
              "        const buttonEl =\n",
              "          document.querySelector('#df-ef76cd13-81f9-4504-b538-0288d92698ce button.colab-df-convert');\n",
              "        buttonEl.style.display =\n",
              "          google.colab.kernel.accessAllowed ? 'block' : 'none';\n",
              "\n",
              "        async function convertToInteractive(key) {\n",
              "          const element = document.querySelector('#df-ef76cd13-81f9-4504-b538-0288d92698ce');\n",
              "          const dataTable =\n",
              "            await google.colab.kernel.invokeFunction('convertToInteractive',\n",
              "                                                     [key], {});\n",
              "          if (!dataTable) return;\n",
              "\n",
              "          const docLinkHtml = 'Like what you see? Visit the ' +\n",
              "            '<a target=\"_blank\" href=https://colab.research.google.com/notebooks/data_table.ipynb>data table notebook</a>'\n",
              "            + ' to learn more about interactive tables.';\n",
              "          element.innerHTML = '';\n",
              "          dataTable['output_type'] = 'display_data';\n",
              "          await google.colab.output.renderOutput(dataTable, element);\n",
              "          const docLink = document.createElement('div');\n",
              "          docLink.innerHTML = docLinkHtml;\n",
              "          element.appendChild(docLink);\n",
              "        }\n",
              "      </script>\n",
              "    </div>\n",
              "  </div>\n",
              "  "
            ]
          },
          "metadata": {},
          "execution_count": 17
        }
      ]
    },
    {
      "cell_type": "code",
      "source": [
        "product_sizes = purchase_transaction_df['product_size'].unique()\n",
        "product_sizes"
      ],
      "metadata": {
        "colab": {
          "base_uri": "https://localhost:8080/"
        },
        "id": "xxOZ1d0Vha-A",
        "outputId": "57983f91-c822-4cb2-ba57-ae35b6e32cee"
      },
      "execution_count": null,
      "outputs": [
        {
          "output_type": "execute_result",
          "data": {
            "text/plain": [
              "array(['175', '170', '150', '330', '210', '270', '220', '125', '110',\n",
              "       '134', '380', '180', '165', '135', '250', '200', '160', '190',\n",
              "       '90', '70'], dtype=object)"
            ]
          },
          "metadata": {},
          "execution_count": 110
        }
      ]
    },
    {
      "cell_type": "markdown",
      "source": [
        "Looking at the brand preferences of our target segments from above and whether there are some brands for which their affinity is higher than the other segments.\n",
        "\n",
        "preference for a brand(or another attribute under consideration) is calculated by checking the total quantity of that brand bought by the target customer segment as a proportion of all the brands bought by that target customer segment.\n",
        "\n",
        "affinity is the ratio of preference value of target customer segment and prefernce value for rest of the customer segments. This ratio will show how much higher or lower the preference for a brand for a target customer segment is as compared to the rest of the customer segments."
      ],
      "metadata": {
        "id": "n7gpapH5ZjpU"
      }
    },
    {
      "cell_type": "code",
      "source": [
        "#checking affinity for a target segment\n",
        "def affinity(premium_customer, lifestage, attribute, attribute_values):\n",
        "  affinity_for_segments = pd.DataFrame()\n",
        "  preference_values_target = []\n",
        "  preference_values_others = []\n",
        "  affinity_values = []\n",
        "  target_segment = purchase_transaction_df[(purchase_transaction_df['PREMIUM_CUSTOMER'] == premium_customer) & (purchase_transaction_df['LIFESTAGE'] == lifestage)].loc[:,[attribute,'PROD_QTY']]\n",
        "  other_segments = purchase_transaction_df[(purchase_transaction_df['PREMIUM_CUSTOMER'] != premium_customer) & (purchase_transaction_df['LIFESTAGE'] != lifestage)].loc[:,[attribute,'PROD_QTY']]\n",
        "  sum_prod_qty_target = target_segment['PROD_QTY'].sum()\n",
        "  sum_prod_qty_others = other_segments['PROD_QTY'].sum()\n",
        "  for attribute_value in attribute_values:\n",
        "    preference_value_target = target_segment[target_segment[attribute] == attribute_value]['PROD_QTY'].values.sum()/sum_prod_qty_target\n",
        "    preference_value_others = other_segments[other_segments[attribute] == attribute_value]['PROD_QTY'].values.sum()/sum_prod_qty_others\n",
        "    affinity_to_brand = preference_value_target/preference_value_others\n",
        "    preference_values_target.append(preference_value_target)\n",
        "    preference_values_others.append(preference_value_others)\n",
        "    affinity_values.append(affinity_to_brand)\n",
        "  affinity_for_segments[attribute] = attribute_values\n",
        "  affinity_for_segments['preference_target'] = preference_values_target\n",
        "  affinity_for_segments['preference_others'] = preference_values_others\n",
        "  affinity_for_segments['affinity_to_brand'] = affinity_values\n",
        "  return affinity_for_segments.sort_values(by='affinity_to_brand')"
      ],
      "metadata": {
        "id": "IWppMYGQaAdy"
      },
      "execution_count": null,
      "outputs": []
    },
    {
      "cell_type": "markdown",
      "source": [
        "- Mainstream Young Singles/Couples"
      ],
      "metadata": {
        "id": "5KebTfm7vfkf"
      }
    },
    {
      "cell_type": "code",
      "source": [
        "affinity('Mainstream','YOUNG SINGLES/COUPLES','Brand_Name',brand_names)"
      ],
      "metadata": {
        "colab": {
          "base_uri": "https://localhost:8080/",
          "height": 708
        },
        "id": "cBL2WRhIgmJf",
        "outputId": "02eaa654-6eaa-4561-ed7a-c6eef252fc99"
      },
      "execution_count": null,
      "outputs": [
        {
          "output_type": "execute_result",
          "data": {
            "text/plain": [
              "    Brand_Name  preference_target  preference_others  affinity_to_brand\n",
              "9       Burger           0.002937           0.006577           0.446488\n",
              "19  Woolworths           0.002854           0.006127           0.465749\n",
              "7           WW           0.021333           0.042915           0.497092\n",
              "20    Sunbites           0.006372           0.012689           0.502177\n",
              "1          CCs           0.011220           0.018556           0.604671\n",
              "0      Natural           0.019670           0.031146           0.631555\n",
              "12         RRD           0.043967           0.067590           0.650498\n",
              "18     Cheetos           0.008062           0.011830           0.681492\n",
              "16      French           0.003962           0.005741           0.690046\n",
              "2       Smiths           0.093115           0.118926           0.782969\n",
              "10    Cheezels           0.018036           0.019018           0.948346\n",
              "4      GrnWves           0.032830           0.031257           1.050340\n",
              "8        Thins           0.060590           0.057505           1.053654\n",
              "11   Infuzions           0.064912           0.057757           1.123888\n",
              "15        Cobs           0.044798           0.038681           1.158141\n",
              "13    Pringles           0.119850           0.101721           1.178224\n",
              "17    Tostitos           0.045574           0.038582           1.181227\n",
              "3       Kettle           0.198698           0.167567           1.185782\n",
              "5      Doritos           0.123203           0.101782           1.210452\n",
              "6     Twisties           0.046350           0.038162           1.214551\n",
              "14    Tyrrells           0.031666           0.025870           1.224048"
            ],
            "text/html": [
              "\n",
              "  <div id=\"df-e4ad41dd-aca1-433d-9ba3-89b173090ef1\">\n",
              "    <div class=\"colab-df-container\">\n",
              "      <div>\n",
              "<style scoped>\n",
              "    .dataframe tbody tr th:only-of-type {\n",
              "        vertical-align: middle;\n",
              "    }\n",
              "\n",
              "    .dataframe tbody tr th {\n",
              "        vertical-align: top;\n",
              "    }\n",
              "\n",
              "    .dataframe thead th {\n",
              "        text-align: right;\n",
              "    }\n",
              "</style>\n",
              "<table border=\"1\" class=\"dataframe\">\n",
              "  <thead>\n",
              "    <tr style=\"text-align: right;\">\n",
              "      <th></th>\n",
              "      <th>Brand_Name</th>\n",
              "      <th>preference_target</th>\n",
              "      <th>preference_others</th>\n",
              "      <th>affinity_to_brand</th>\n",
              "    </tr>\n",
              "  </thead>\n",
              "  <tbody>\n",
              "    <tr>\n",
              "      <th>9</th>\n",
              "      <td>Burger</td>\n",
              "      <td>0.002937</td>\n",
              "      <td>0.006577</td>\n",
              "      <td>0.446488</td>\n",
              "    </tr>\n",
              "    <tr>\n",
              "      <th>19</th>\n",
              "      <td>Woolworths</td>\n",
              "      <td>0.002854</td>\n",
              "      <td>0.006127</td>\n",
              "      <td>0.465749</td>\n",
              "    </tr>\n",
              "    <tr>\n",
              "      <th>7</th>\n",
              "      <td>WW</td>\n",
              "      <td>0.021333</td>\n",
              "      <td>0.042915</td>\n",
              "      <td>0.497092</td>\n",
              "    </tr>\n",
              "    <tr>\n",
              "      <th>20</th>\n",
              "      <td>Sunbites</td>\n",
              "      <td>0.006372</td>\n",
              "      <td>0.012689</td>\n",
              "      <td>0.502177</td>\n",
              "    </tr>\n",
              "    <tr>\n",
              "      <th>1</th>\n",
              "      <td>CCs</td>\n",
              "      <td>0.011220</td>\n",
              "      <td>0.018556</td>\n",
              "      <td>0.604671</td>\n",
              "    </tr>\n",
              "    <tr>\n",
              "      <th>0</th>\n",
              "      <td>Natural</td>\n",
              "      <td>0.019670</td>\n",
              "      <td>0.031146</td>\n",
              "      <td>0.631555</td>\n",
              "    </tr>\n",
              "    <tr>\n",
              "      <th>12</th>\n",
              "      <td>RRD</td>\n",
              "      <td>0.043967</td>\n",
              "      <td>0.067590</td>\n",
              "      <td>0.650498</td>\n",
              "    </tr>\n",
              "    <tr>\n",
              "      <th>18</th>\n",
              "      <td>Cheetos</td>\n",
              "      <td>0.008062</td>\n",
              "      <td>0.011830</td>\n",
              "      <td>0.681492</td>\n",
              "    </tr>\n",
              "    <tr>\n",
              "      <th>16</th>\n",
              "      <td>French</td>\n",
              "      <td>0.003962</td>\n",
              "      <td>0.005741</td>\n",
              "      <td>0.690046</td>\n",
              "    </tr>\n",
              "    <tr>\n",
              "      <th>2</th>\n",
              "      <td>Smiths</td>\n",
              "      <td>0.093115</td>\n",
              "      <td>0.118926</td>\n",
              "      <td>0.782969</td>\n",
              "    </tr>\n",
              "    <tr>\n",
              "      <th>10</th>\n",
              "      <td>Cheezels</td>\n",
              "      <td>0.018036</td>\n",
              "      <td>0.019018</td>\n",
              "      <td>0.948346</td>\n",
              "    </tr>\n",
              "    <tr>\n",
              "      <th>4</th>\n",
              "      <td>GrnWves</td>\n",
              "      <td>0.032830</td>\n",
              "      <td>0.031257</td>\n",
              "      <td>1.050340</td>\n",
              "    </tr>\n",
              "    <tr>\n",
              "      <th>8</th>\n",
              "      <td>Thins</td>\n",
              "      <td>0.060590</td>\n",
              "      <td>0.057505</td>\n",
              "      <td>1.053654</td>\n",
              "    </tr>\n",
              "    <tr>\n",
              "      <th>11</th>\n",
              "      <td>Infuzions</td>\n",
              "      <td>0.064912</td>\n",
              "      <td>0.057757</td>\n",
              "      <td>1.123888</td>\n",
              "    </tr>\n",
              "    <tr>\n",
              "      <th>15</th>\n",
              "      <td>Cobs</td>\n",
              "      <td>0.044798</td>\n",
              "      <td>0.038681</td>\n",
              "      <td>1.158141</td>\n",
              "    </tr>\n",
              "    <tr>\n",
              "      <th>13</th>\n",
              "      <td>Pringles</td>\n",
              "      <td>0.119850</td>\n",
              "      <td>0.101721</td>\n",
              "      <td>1.178224</td>\n",
              "    </tr>\n",
              "    <tr>\n",
              "      <th>17</th>\n",
              "      <td>Tostitos</td>\n",
              "      <td>0.045574</td>\n",
              "      <td>0.038582</td>\n",
              "      <td>1.181227</td>\n",
              "    </tr>\n",
              "    <tr>\n",
              "      <th>3</th>\n",
              "      <td>Kettle</td>\n",
              "      <td>0.198698</td>\n",
              "      <td>0.167567</td>\n",
              "      <td>1.185782</td>\n",
              "    </tr>\n",
              "    <tr>\n",
              "      <th>5</th>\n",
              "      <td>Doritos</td>\n",
              "      <td>0.123203</td>\n",
              "      <td>0.101782</td>\n",
              "      <td>1.210452</td>\n",
              "    </tr>\n",
              "    <tr>\n",
              "      <th>6</th>\n",
              "      <td>Twisties</td>\n",
              "      <td>0.046350</td>\n",
              "      <td>0.038162</td>\n",
              "      <td>1.214551</td>\n",
              "    </tr>\n",
              "    <tr>\n",
              "      <th>14</th>\n",
              "      <td>Tyrrells</td>\n",
              "      <td>0.031666</td>\n",
              "      <td>0.025870</td>\n",
              "      <td>1.224048</td>\n",
              "    </tr>\n",
              "  </tbody>\n",
              "</table>\n",
              "</div>\n",
              "      <button class=\"colab-df-convert\" onclick=\"convertToInteractive('df-e4ad41dd-aca1-433d-9ba3-89b173090ef1')\"\n",
              "              title=\"Convert this dataframe to an interactive table.\"\n",
              "              style=\"display:none;\">\n",
              "        \n",
              "  <svg xmlns=\"http://www.w3.org/2000/svg\" height=\"24px\"viewBox=\"0 0 24 24\"\n",
              "       width=\"24px\">\n",
              "    <path d=\"M0 0h24v24H0V0z\" fill=\"none\"/>\n",
              "    <path d=\"M18.56 5.44l.94 2.06.94-2.06 2.06-.94-2.06-.94-.94-2.06-.94 2.06-2.06.94zm-11 1L8.5 8.5l.94-2.06 2.06-.94-2.06-.94L8.5 2.5l-.94 2.06-2.06.94zm10 10l.94 2.06.94-2.06 2.06-.94-2.06-.94-.94-2.06-.94 2.06-2.06.94z\"/><path d=\"M17.41 7.96l-1.37-1.37c-.4-.4-.92-.59-1.43-.59-.52 0-1.04.2-1.43.59L10.3 9.45l-7.72 7.72c-.78.78-.78 2.05 0 2.83L4 21.41c.39.39.9.59 1.41.59.51 0 1.02-.2 1.41-.59l7.78-7.78 2.81-2.81c.8-.78.8-2.07 0-2.86zM5.41 20L4 18.59l7.72-7.72 1.47 1.35L5.41 20z\"/>\n",
              "  </svg>\n",
              "      </button>\n",
              "      \n",
              "  <style>\n",
              "    .colab-df-container {\n",
              "      display:flex;\n",
              "      flex-wrap:wrap;\n",
              "      gap: 12px;\n",
              "    }\n",
              "\n",
              "    .colab-df-convert {\n",
              "      background-color: #E8F0FE;\n",
              "      border: none;\n",
              "      border-radius: 50%;\n",
              "      cursor: pointer;\n",
              "      display: none;\n",
              "      fill: #1967D2;\n",
              "      height: 32px;\n",
              "      padding: 0 0 0 0;\n",
              "      width: 32px;\n",
              "    }\n",
              "\n",
              "    .colab-df-convert:hover {\n",
              "      background-color: #E2EBFA;\n",
              "      box-shadow: 0px 1px 2px rgba(60, 64, 67, 0.3), 0px 1px 3px 1px rgba(60, 64, 67, 0.15);\n",
              "      fill: #174EA6;\n",
              "    }\n",
              "\n",
              "    [theme=dark] .colab-df-convert {\n",
              "      background-color: #3B4455;\n",
              "      fill: #D2E3FC;\n",
              "    }\n",
              "\n",
              "    [theme=dark] .colab-df-convert:hover {\n",
              "      background-color: #434B5C;\n",
              "      box-shadow: 0px 1px 3px 1px rgba(0, 0, 0, 0.15);\n",
              "      filter: drop-shadow(0px 1px 2px rgba(0, 0, 0, 0.3));\n",
              "      fill: #FFFFFF;\n",
              "    }\n",
              "  </style>\n",
              "\n",
              "      <script>\n",
              "        const buttonEl =\n",
              "          document.querySelector('#df-e4ad41dd-aca1-433d-9ba3-89b173090ef1 button.colab-df-convert');\n",
              "        buttonEl.style.display =\n",
              "          google.colab.kernel.accessAllowed ? 'block' : 'none';\n",
              "\n",
              "        async function convertToInteractive(key) {\n",
              "          const element = document.querySelector('#df-e4ad41dd-aca1-433d-9ba3-89b173090ef1');\n",
              "          const dataTable =\n",
              "            await google.colab.kernel.invokeFunction('convertToInteractive',\n",
              "                                                     [key], {});\n",
              "          if (!dataTable) return;\n",
              "\n",
              "          const docLinkHtml = 'Like what you see? Visit the ' +\n",
              "            '<a target=\"_blank\" href=https://colab.research.google.com/notebooks/data_table.ipynb>data table notebook</a>'\n",
              "            + ' to learn more about interactive tables.';\n",
              "          element.innerHTML = '';\n",
              "          dataTable['output_type'] = 'display_data';\n",
              "          await google.colab.output.renderOutput(dataTable, element);\n",
              "          const docLink = document.createElement('div');\n",
              "          docLink.innerHTML = docLinkHtml;\n",
              "          element.appendChild(docLink);\n",
              "        }\n",
              "      </script>\n",
              "    </div>\n",
              "  </div>\n",
              "  "
            ]
          },
          "metadata": {},
          "execution_count": 121
        }
      ]
    },
    {
      "cell_type": "markdown",
      "source": [
        "- For Mainstream Young Singles/Couples, their affinity for Tyrells is 23% higher than the other segments followed by Doritos and Twisties at 21%\n",
        "- The least preferred brand is Burger for which their affinity is 56% less than the other segments."
      ],
      "metadata": {
        "id": "hNrnD8aLvlHI"
      }
    },
    {
      "cell_type": "markdown",
      "source": [
        "- Mainstream Midage Singles/Couples"
      ],
      "metadata": {
        "id": "9O0e8SiZFwUR"
      }
    },
    {
      "cell_type": "code",
      "source": [
        "affinity('Mainstream','MIDAGE SINGLES/COUPLES','Brand_Name',brand_names)"
      ],
      "metadata": {
        "colab": {
          "base_uri": "https://localhost:8080/",
          "height": 708
        },
        "id": "mt4DkX64FuiV",
        "outputId": "a366fc1a-8704-4ffb-9af1-e603edcaa12a"
      },
      "execution_count": null,
      "outputs": [
        {
          "output_type": "execute_result",
          "data": {
            "text/plain": [
              "    Brand_Name  preference_target  preference_others  affinity_to_brand\n",
              "20    Sunbites           0.006249           0.012772           0.489268\n",
              "7           WW           0.027127           0.043685           0.620961\n",
              "16      French           0.003835           0.005905           0.649448\n",
              "9       Burger           0.004355           0.006554           0.664517\n",
              "19  Woolworths           0.004355           0.006399           0.680601\n",
              "1          CCs           0.014487           0.018881           0.767261\n",
              "0      Natural           0.024760           0.031362           0.789472\n",
              "12         RRD           0.054490           0.068255           0.798332\n",
              "18     Cheetos           0.010178           0.011972           0.850226\n",
              "2       Smiths           0.111395           0.119961           0.928598\n",
              "8        Thins           0.057426           0.057549           0.997849\n",
              "4      GrnWves           0.032098           0.031155           1.030272\n",
              "13    Pringles           0.104625           0.101265           1.033185\n",
              "10    Cheezels           0.019931           0.019043           1.046607\n",
              "14    Tyrrells           0.027032           0.025734           1.050460\n",
              "11   Infuzions           0.062018           0.057270           1.082904\n",
              "5      Doritos           0.109359           0.100857           1.084305\n",
              "17    Tostitos           0.043744           0.038351           1.140613\n",
              "6     Twisties           0.044123           0.038038           1.159972\n",
              "3       Kettle           0.193391           0.166396           1.162234\n",
              "15        Cobs           0.045022           0.038597           1.166474"
            ],
            "text/html": [
              "\n",
              "  <div id=\"df-458701ee-2787-4628-a55c-9096b1d260cc\">\n",
              "    <div class=\"colab-df-container\">\n",
              "      <div>\n",
              "<style scoped>\n",
              "    .dataframe tbody tr th:only-of-type {\n",
              "        vertical-align: middle;\n",
              "    }\n",
              "\n",
              "    .dataframe tbody tr th {\n",
              "        vertical-align: top;\n",
              "    }\n",
              "\n",
              "    .dataframe thead th {\n",
              "        text-align: right;\n",
              "    }\n",
              "</style>\n",
              "<table border=\"1\" class=\"dataframe\">\n",
              "  <thead>\n",
              "    <tr style=\"text-align: right;\">\n",
              "      <th></th>\n",
              "      <th>Brand_Name</th>\n",
              "      <th>preference_target</th>\n",
              "      <th>preference_others</th>\n",
              "      <th>affinity_to_brand</th>\n",
              "    </tr>\n",
              "  </thead>\n",
              "  <tbody>\n",
              "    <tr>\n",
              "      <th>20</th>\n",
              "      <td>Sunbites</td>\n",
              "      <td>0.006249</td>\n",
              "      <td>0.012772</td>\n",
              "      <td>0.489268</td>\n",
              "    </tr>\n",
              "    <tr>\n",
              "      <th>7</th>\n",
              "      <td>WW</td>\n",
              "      <td>0.027127</td>\n",
              "      <td>0.043685</td>\n",
              "      <td>0.620961</td>\n",
              "    </tr>\n",
              "    <tr>\n",
              "      <th>16</th>\n",
              "      <td>French</td>\n",
              "      <td>0.003835</td>\n",
              "      <td>0.005905</td>\n",
              "      <td>0.649448</td>\n",
              "    </tr>\n",
              "    <tr>\n",
              "      <th>9</th>\n",
              "      <td>Burger</td>\n",
              "      <td>0.004355</td>\n",
              "      <td>0.006554</td>\n",
              "      <td>0.664517</td>\n",
              "    </tr>\n",
              "    <tr>\n",
              "      <th>19</th>\n",
              "      <td>Woolworths</td>\n",
              "      <td>0.004355</td>\n",
              "      <td>0.006399</td>\n",
              "      <td>0.680601</td>\n",
              "    </tr>\n",
              "    <tr>\n",
              "      <th>1</th>\n",
              "      <td>CCs</td>\n",
              "      <td>0.014487</td>\n",
              "      <td>0.018881</td>\n",
              "      <td>0.767261</td>\n",
              "    </tr>\n",
              "    <tr>\n",
              "      <th>0</th>\n",
              "      <td>Natural</td>\n",
              "      <td>0.024760</td>\n",
              "      <td>0.031362</td>\n",
              "      <td>0.789472</td>\n",
              "    </tr>\n",
              "    <tr>\n",
              "      <th>12</th>\n",
              "      <td>RRD</td>\n",
              "      <td>0.054490</td>\n",
              "      <td>0.068255</td>\n",
              "      <td>0.798332</td>\n",
              "    </tr>\n",
              "    <tr>\n",
              "      <th>18</th>\n",
              "      <td>Cheetos</td>\n",
              "      <td>0.010178</td>\n",
              "      <td>0.011972</td>\n",
              "      <td>0.850226</td>\n",
              "    </tr>\n",
              "    <tr>\n",
              "      <th>2</th>\n",
              "      <td>Smiths</td>\n",
              "      <td>0.111395</td>\n",
              "      <td>0.119961</td>\n",
              "      <td>0.928598</td>\n",
              "    </tr>\n",
              "    <tr>\n",
              "      <th>8</th>\n",
              "      <td>Thins</td>\n",
              "      <td>0.057426</td>\n",
              "      <td>0.057549</td>\n",
              "      <td>0.997849</td>\n",
              "    </tr>\n",
              "    <tr>\n",
              "      <th>4</th>\n",
              "      <td>GrnWves</td>\n",
              "      <td>0.032098</td>\n",
              "      <td>0.031155</td>\n",
              "      <td>1.030272</td>\n",
              "    </tr>\n",
              "    <tr>\n",
              "      <th>13</th>\n",
              "      <td>Pringles</td>\n",
              "      <td>0.104625</td>\n",
              "      <td>0.101265</td>\n",
              "      <td>1.033185</td>\n",
              "    </tr>\n",
              "    <tr>\n",
              "      <th>10</th>\n",
              "      <td>Cheezels</td>\n",
              "      <td>0.019931</td>\n",
              "      <td>0.019043</td>\n",
              "      <td>1.046607</td>\n",
              "    </tr>\n",
              "    <tr>\n",
              "      <th>14</th>\n",
              "      <td>Tyrrells</td>\n",
              "      <td>0.027032</td>\n",
              "      <td>0.025734</td>\n",
              "      <td>1.050460</td>\n",
              "    </tr>\n",
              "    <tr>\n",
              "      <th>11</th>\n",
              "      <td>Infuzions</td>\n",
              "      <td>0.062018</td>\n",
              "      <td>0.057270</td>\n",
              "      <td>1.082904</td>\n",
              "    </tr>\n",
              "    <tr>\n",
              "      <th>5</th>\n",
              "      <td>Doritos</td>\n",
              "      <td>0.109359</td>\n",
              "      <td>0.100857</td>\n",
              "      <td>1.084305</td>\n",
              "    </tr>\n",
              "    <tr>\n",
              "      <th>17</th>\n",
              "      <td>Tostitos</td>\n",
              "      <td>0.043744</td>\n",
              "      <td>0.038351</td>\n",
              "      <td>1.140613</td>\n",
              "    </tr>\n",
              "    <tr>\n",
              "      <th>6</th>\n",
              "      <td>Twisties</td>\n",
              "      <td>0.044123</td>\n",
              "      <td>0.038038</td>\n",
              "      <td>1.159972</td>\n",
              "    </tr>\n",
              "    <tr>\n",
              "      <th>3</th>\n",
              "      <td>Kettle</td>\n",
              "      <td>0.193391</td>\n",
              "      <td>0.166396</td>\n",
              "      <td>1.162234</td>\n",
              "    </tr>\n",
              "    <tr>\n",
              "      <th>15</th>\n",
              "      <td>Cobs</td>\n",
              "      <td>0.045022</td>\n",
              "      <td>0.038597</td>\n",
              "      <td>1.166474</td>\n",
              "    </tr>\n",
              "  </tbody>\n",
              "</table>\n",
              "</div>\n",
              "      <button class=\"colab-df-convert\" onclick=\"convertToInteractive('df-458701ee-2787-4628-a55c-9096b1d260cc')\"\n",
              "              title=\"Convert this dataframe to an interactive table.\"\n",
              "              style=\"display:none;\">\n",
              "        \n",
              "  <svg xmlns=\"http://www.w3.org/2000/svg\" height=\"24px\"viewBox=\"0 0 24 24\"\n",
              "       width=\"24px\">\n",
              "    <path d=\"M0 0h24v24H0V0z\" fill=\"none\"/>\n",
              "    <path d=\"M18.56 5.44l.94 2.06.94-2.06 2.06-.94-2.06-.94-.94-2.06-.94 2.06-2.06.94zm-11 1L8.5 8.5l.94-2.06 2.06-.94-2.06-.94L8.5 2.5l-.94 2.06-2.06.94zm10 10l.94 2.06.94-2.06 2.06-.94-2.06-.94-.94-2.06-.94 2.06-2.06.94z\"/><path d=\"M17.41 7.96l-1.37-1.37c-.4-.4-.92-.59-1.43-.59-.52 0-1.04.2-1.43.59L10.3 9.45l-7.72 7.72c-.78.78-.78 2.05 0 2.83L4 21.41c.39.39.9.59 1.41.59.51 0 1.02-.2 1.41-.59l7.78-7.78 2.81-2.81c.8-.78.8-2.07 0-2.86zM5.41 20L4 18.59l7.72-7.72 1.47 1.35L5.41 20z\"/>\n",
              "  </svg>\n",
              "      </button>\n",
              "      \n",
              "  <style>\n",
              "    .colab-df-container {\n",
              "      display:flex;\n",
              "      flex-wrap:wrap;\n",
              "      gap: 12px;\n",
              "    }\n",
              "\n",
              "    .colab-df-convert {\n",
              "      background-color: #E8F0FE;\n",
              "      border: none;\n",
              "      border-radius: 50%;\n",
              "      cursor: pointer;\n",
              "      display: none;\n",
              "      fill: #1967D2;\n",
              "      height: 32px;\n",
              "      padding: 0 0 0 0;\n",
              "      width: 32px;\n",
              "    }\n",
              "\n",
              "    .colab-df-convert:hover {\n",
              "      background-color: #E2EBFA;\n",
              "      box-shadow: 0px 1px 2px rgba(60, 64, 67, 0.3), 0px 1px 3px 1px rgba(60, 64, 67, 0.15);\n",
              "      fill: #174EA6;\n",
              "    }\n",
              "\n",
              "    [theme=dark] .colab-df-convert {\n",
              "      background-color: #3B4455;\n",
              "      fill: #D2E3FC;\n",
              "    }\n",
              "\n",
              "    [theme=dark] .colab-df-convert:hover {\n",
              "      background-color: #434B5C;\n",
              "      box-shadow: 0px 1px 3px 1px rgba(0, 0, 0, 0.15);\n",
              "      filter: drop-shadow(0px 1px 2px rgba(0, 0, 0, 0.3));\n",
              "      fill: #FFFFFF;\n",
              "    }\n",
              "  </style>\n",
              "\n",
              "      <script>\n",
              "        const buttonEl =\n",
              "          document.querySelector('#df-458701ee-2787-4628-a55c-9096b1d260cc button.colab-df-convert');\n",
              "        buttonEl.style.display =\n",
              "          google.colab.kernel.accessAllowed ? 'block' : 'none';\n",
              "\n",
              "        async function convertToInteractive(key) {\n",
              "          const element = document.querySelector('#df-458701ee-2787-4628-a55c-9096b1d260cc');\n",
              "          const dataTable =\n",
              "            await google.colab.kernel.invokeFunction('convertToInteractive',\n",
              "                                                     [key], {});\n",
              "          if (!dataTable) return;\n",
              "\n",
              "          const docLinkHtml = 'Like what you see? Visit the ' +\n",
              "            '<a target=\"_blank\" href=https://colab.research.google.com/notebooks/data_table.ipynb>data table notebook</a>'\n",
              "            + ' to learn more about interactive tables.';\n",
              "          element.innerHTML = '';\n",
              "          dataTable['output_type'] = 'display_data';\n",
              "          await google.colab.output.renderOutput(dataTable, element);\n",
              "          const docLink = document.createElement('div');\n",
              "          docLink.innerHTML = docLinkHtml;\n",
              "          element.appendChild(docLink);\n",
              "        }\n",
              "      </script>\n",
              "    </div>\n",
              "  </div>\n",
              "  "
            ]
          },
          "metadata": {},
          "execution_count": 122
        }
      ]
    },
    {
      "cell_type": "markdown",
      "source": [
        "- For Mainstream Midage Singles/Couples, their most preferred brands are Cobs and Kettle with the affinity for them being 16% higher than the others followed by Twisties at 15% higher affinity than the others.\n",
        "- least preferred brand is sunbites, 52% less than the others."
      ],
      "metadata": {
        "id": "1BZXq1zRGYK1"
      }
    },
    {
      "cell_type": "markdown",
      "source": [
        "Next we'll look at the package sizes preferred by these two segments"
      ],
      "metadata": {
        "id": "J8iOx5nIHDsN"
      }
    },
    {
      "cell_type": "code",
      "source": [
        "affinity('Mainstream','YOUNG SINGLES/COUPLES','product_size',product_sizes)"
      ],
      "metadata": {
        "colab": {
          "base_uri": "https://localhost:8080/",
          "height": 676
        },
        "id": "pgsUp2HXG3oL",
        "outputId": "bdf42b19-be25-48af-f589-ad748f30fbc3"
      },
      "execution_count": null,
      "outputs": [
        {
          "output_type": "execute_result",
          "data": {
            "text/plain": [
              "   product_size  preference_target  preference_others  affinity_to_brand\n",
              "6           220           0.002937           0.006577           0.446488\n",
              "19           70           0.003048           0.006322           0.482083\n",
              "15          200           0.009004           0.018583           0.484532\n",
              "18           90           0.006372           0.012689           0.502177\n",
              "7           125           0.003020           0.006012           0.502268\n",
              "16          160           0.006427           0.012296           0.522741\n",
              "11          180           0.003602           0.006215           0.579533\n",
              "17          190           0.007508           0.012204           0.615200\n",
              "12          165           0.055853           0.061960           0.901436\n",
              "0           175           0.255908           0.273098           0.937056\n",
              "2           150           0.154564           0.158012           0.978181\n",
              "1           170           0.081064           0.080833           1.002860\n",
              "14          250           0.014406           0.012941           1.113251\n",
              "13          135           0.014822           0.013010           1.139315\n",
              "4           210           0.029228           0.025042           1.167181\n",
              "9           134           0.119850           0.101721           1.178224\n",
              "8           110           0.106663           0.090116           1.183612\n",
              "3           330           0.061504           0.051282           1.199326\n",
              "10          380           0.032276           0.025866           1.247792\n",
              "5           270           0.031943           0.025221           1.266527"
            ],
            "text/html": [
              "\n",
              "  <div id=\"df-07b47b71-b37d-4558-9f44-03e6cc5bf398\">\n",
              "    <div class=\"colab-df-container\">\n",
              "      <div>\n",
              "<style scoped>\n",
              "    .dataframe tbody tr th:only-of-type {\n",
              "        vertical-align: middle;\n",
              "    }\n",
              "\n",
              "    .dataframe tbody tr th {\n",
              "        vertical-align: top;\n",
              "    }\n",
              "\n",
              "    .dataframe thead th {\n",
              "        text-align: right;\n",
              "    }\n",
              "</style>\n",
              "<table border=\"1\" class=\"dataframe\">\n",
              "  <thead>\n",
              "    <tr style=\"text-align: right;\">\n",
              "      <th></th>\n",
              "      <th>product_size</th>\n",
              "      <th>preference_target</th>\n",
              "      <th>preference_others</th>\n",
              "      <th>affinity_to_brand</th>\n",
              "    </tr>\n",
              "  </thead>\n",
              "  <tbody>\n",
              "    <tr>\n",
              "      <th>6</th>\n",
              "      <td>220</td>\n",
              "      <td>0.002937</td>\n",
              "      <td>0.006577</td>\n",
              "      <td>0.446488</td>\n",
              "    </tr>\n",
              "    <tr>\n",
              "      <th>19</th>\n",
              "      <td>70</td>\n",
              "      <td>0.003048</td>\n",
              "      <td>0.006322</td>\n",
              "      <td>0.482083</td>\n",
              "    </tr>\n",
              "    <tr>\n",
              "      <th>15</th>\n",
              "      <td>200</td>\n",
              "      <td>0.009004</td>\n",
              "      <td>0.018583</td>\n",
              "      <td>0.484532</td>\n",
              "    </tr>\n",
              "    <tr>\n",
              "      <th>18</th>\n",
              "      <td>90</td>\n",
              "      <td>0.006372</td>\n",
              "      <td>0.012689</td>\n",
              "      <td>0.502177</td>\n",
              "    </tr>\n",
              "    <tr>\n",
              "      <th>7</th>\n",
              "      <td>125</td>\n",
              "      <td>0.003020</td>\n",
              "      <td>0.006012</td>\n",
              "      <td>0.502268</td>\n",
              "    </tr>\n",
              "    <tr>\n",
              "      <th>16</th>\n",
              "      <td>160</td>\n",
              "      <td>0.006427</td>\n",
              "      <td>0.012296</td>\n",
              "      <td>0.522741</td>\n",
              "    </tr>\n",
              "    <tr>\n",
              "      <th>11</th>\n",
              "      <td>180</td>\n",
              "      <td>0.003602</td>\n",
              "      <td>0.006215</td>\n",
              "      <td>0.579533</td>\n",
              "    </tr>\n",
              "    <tr>\n",
              "      <th>17</th>\n",
              "      <td>190</td>\n",
              "      <td>0.007508</td>\n",
              "      <td>0.012204</td>\n",
              "      <td>0.615200</td>\n",
              "    </tr>\n",
              "    <tr>\n",
              "      <th>12</th>\n",
              "      <td>165</td>\n",
              "      <td>0.055853</td>\n",
              "      <td>0.061960</td>\n",
              "      <td>0.901436</td>\n",
              "    </tr>\n",
              "    <tr>\n",
              "      <th>0</th>\n",
              "      <td>175</td>\n",
              "      <td>0.255908</td>\n",
              "      <td>0.273098</td>\n",
              "      <td>0.937056</td>\n",
              "    </tr>\n",
              "    <tr>\n",
              "      <th>2</th>\n",
              "      <td>150</td>\n",
              "      <td>0.154564</td>\n",
              "      <td>0.158012</td>\n",
              "      <td>0.978181</td>\n",
              "    </tr>\n",
              "    <tr>\n",
              "      <th>1</th>\n",
              "      <td>170</td>\n",
              "      <td>0.081064</td>\n",
              "      <td>0.080833</td>\n",
              "      <td>1.002860</td>\n",
              "    </tr>\n",
              "    <tr>\n",
              "      <th>14</th>\n",
              "      <td>250</td>\n",
              "      <td>0.014406</td>\n",
              "      <td>0.012941</td>\n",
              "      <td>1.113251</td>\n",
              "    </tr>\n",
              "    <tr>\n",
              "      <th>13</th>\n",
              "      <td>135</td>\n",
              "      <td>0.014822</td>\n",
              "      <td>0.013010</td>\n",
              "      <td>1.139315</td>\n",
              "    </tr>\n",
              "    <tr>\n",
              "      <th>4</th>\n",
              "      <td>210</td>\n",
              "      <td>0.029228</td>\n",
              "      <td>0.025042</td>\n",
              "      <td>1.167181</td>\n",
              "    </tr>\n",
              "    <tr>\n",
              "      <th>9</th>\n",
              "      <td>134</td>\n",
              "      <td>0.119850</td>\n",
              "      <td>0.101721</td>\n",
              "      <td>1.178224</td>\n",
              "    </tr>\n",
              "    <tr>\n",
              "      <th>8</th>\n",
              "      <td>110</td>\n",
              "      <td>0.106663</td>\n",
              "      <td>0.090116</td>\n",
              "      <td>1.183612</td>\n",
              "    </tr>\n",
              "    <tr>\n",
              "      <th>3</th>\n",
              "      <td>330</td>\n",
              "      <td>0.061504</td>\n",
              "      <td>0.051282</td>\n",
              "      <td>1.199326</td>\n",
              "    </tr>\n",
              "    <tr>\n",
              "      <th>10</th>\n",
              "      <td>380</td>\n",
              "      <td>0.032276</td>\n",
              "      <td>0.025866</td>\n",
              "      <td>1.247792</td>\n",
              "    </tr>\n",
              "    <tr>\n",
              "      <th>5</th>\n",
              "      <td>270</td>\n",
              "      <td>0.031943</td>\n",
              "      <td>0.025221</td>\n",
              "      <td>1.266527</td>\n",
              "    </tr>\n",
              "  </tbody>\n",
              "</table>\n",
              "</div>\n",
              "      <button class=\"colab-df-convert\" onclick=\"convertToInteractive('df-07b47b71-b37d-4558-9f44-03e6cc5bf398')\"\n",
              "              title=\"Convert this dataframe to an interactive table.\"\n",
              "              style=\"display:none;\">\n",
              "        \n",
              "  <svg xmlns=\"http://www.w3.org/2000/svg\" height=\"24px\"viewBox=\"0 0 24 24\"\n",
              "       width=\"24px\">\n",
              "    <path d=\"M0 0h24v24H0V0z\" fill=\"none\"/>\n",
              "    <path d=\"M18.56 5.44l.94 2.06.94-2.06 2.06-.94-2.06-.94-.94-2.06-.94 2.06-2.06.94zm-11 1L8.5 8.5l.94-2.06 2.06-.94-2.06-.94L8.5 2.5l-.94 2.06-2.06.94zm10 10l.94 2.06.94-2.06 2.06-.94-2.06-.94-.94-2.06-.94 2.06-2.06.94z\"/><path d=\"M17.41 7.96l-1.37-1.37c-.4-.4-.92-.59-1.43-.59-.52 0-1.04.2-1.43.59L10.3 9.45l-7.72 7.72c-.78.78-.78 2.05 0 2.83L4 21.41c.39.39.9.59 1.41.59.51 0 1.02-.2 1.41-.59l7.78-7.78 2.81-2.81c.8-.78.8-2.07 0-2.86zM5.41 20L4 18.59l7.72-7.72 1.47 1.35L5.41 20z\"/>\n",
              "  </svg>\n",
              "      </button>\n",
              "      \n",
              "  <style>\n",
              "    .colab-df-container {\n",
              "      display:flex;\n",
              "      flex-wrap:wrap;\n",
              "      gap: 12px;\n",
              "    }\n",
              "\n",
              "    .colab-df-convert {\n",
              "      background-color: #E8F0FE;\n",
              "      border: none;\n",
              "      border-radius: 50%;\n",
              "      cursor: pointer;\n",
              "      display: none;\n",
              "      fill: #1967D2;\n",
              "      height: 32px;\n",
              "      padding: 0 0 0 0;\n",
              "      width: 32px;\n",
              "    }\n",
              "\n",
              "    .colab-df-convert:hover {\n",
              "      background-color: #E2EBFA;\n",
              "      box-shadow: 0px 1px 2px rgba(60, 64, 67, 0.3), 0px 1px 3px 1px rgba(60, 64, 67, 0.15);\n",
              "      fill: #174EA6;\n",
              "    }\n",
              "\n",
              "    [theme=dark] .colab-df-convert {\n",
              "      background-color: #3B4455;\n",
              "      fill: #D2E3FC;\n",
              "    }\n",
              "\n",
              "    [theme=dark] .colab-df-convert:hover {\n",
              "      background-color: #434B5C;\n",
              "      box-shadow: 0px 1px 3px 1px rgba(0, 0, 0, 0.15);\n",
              "      filter: drop-shadow(0px 1px 2px rgba(0, 0, 0, 0.3));\n",
              "      fill: #FFFFFF;\n",
              "    }\n",
              "  </style>\n",
              "\n",
              "      <script>\n",
              "        const buttonEl =\n",
              "          document.querySelector('#df-07b47b71-b37d-4558-9f44-03e6cc5bf398 button.colab-df-convert');\n",
              "        buttonEl.style.display =\n",
              "          google.colab.kernel.accessAllowed ? 'block' : 'none';\n",
              "\n",
              "        async function convertToInteractive(key) {\n",
              "          const element = document.querySelector('#df-07b47b71-b37d-4558-9f44-03e6cc5bf398');\n",
              "          const dataTable =\n",
              "            await google.colab.kernel.invokeFunction('convertToInteractive',\n",
              "                                                     [key], {});\n",
              "          if (!dataTable) return;\n",
              "\n",
              "          const docLinkHtml = 'Like what you see? Visit the ' +\n",
              "            '<a target=\"_blank\" href=https://colab.research.google.com/notebooks/data_table.ipynb>data table notebook</a>'\n",
              "            + ' to learn more about interactive tables.';\n",
              "          element.innerHTML = '';\n",
              "          dataTable['output_type'] = 'display_data';\n",
              "          await google.colab.output.renderOutput(dataTable, element);\n",
              "          const docLink = document.createElement('div');\n",
              "          docLink.innerHTML = docLinkHtml;\n",
              "          element.appendChild(docLink);\n",
              "        }\n",
              "      </script>\n",
              "    </div>\n",
              "  </div>\n",
              "  "
            ]
          },
          "metadata": {},
          "execution_count": 123
        }
      ]
    },
    {
      "cell_type": "markdown",
      "source": [
        "- For Mainstream young singles/couples, 270g is the package size they prefer the most, their preference being 26% higher than the other segments follwed by 380g which is 24% higher.\n",
        "- least preferred size for them is 220g which is 56% less than the others"
      ],
      "metadata": {
        "id": "8o5vy43KHmGP"
      }
    },
    {
      "cell_type": "code",
      "source": [
        "affinity('Mainstream','MIDAGE SINGLES/COUPLES','product_size',product_sizes)"
      ],
      "metadata": {
        "colab": {
          "base_uri": "https://localhost:8080/",
          "height": 676
        },
        "id": "V5dF5CEUJIFz",
        "outputId": "ae74f845-7e23-4cc1-e7db-f47f5a50351c"
      },
      "execution_count": null,
      "outputs": [
        {
          "output_type": "execute_result",
          "data": {
            "text/plain": [
              "   product_size  preference_target  preference_others  affinity_to_brand\n",
              "18           90           0.006249           0.012772           0.489268\n",
              "7           125           0.003219           0.006226           0.517094\n",
              "15          200           0.012119           0.018960           0.639206\n",
              "6           220           0.004355           0.006554           0.664517\n",
              "11          180           0.004261           0.006241           0.682732\n",
              "19           70           0.004545           0.006418           0.708102\n",
              "16          160           0.009090           0.012599           0.721479\n",
              "17          190           0.010368           0.012466           0.831665\n",
              "12          165           0.057331           0.062162           0.922283\n",
              "1           170           0.079724           0.081175           0.982119\n",
              "0           175           0.269706           0.273316           0.986792\n",
              "2           150           0.156843           0.157832           0.993736\n",
              "14          250           0.013256           0.013037           1.016790\n",
              "9           134           0.104625           0.101265           1.033185\n",
              "10          380           0.028547           0.025579           1.116047\n",
              "4           210           0.027837           0.024914           1.117328\n",
              "13          135           0.014581           0.012980           1.123351\n",
              "8           110           0.102495           0.089448           1.145858\n",
              "3           330           0.059982           0.051055           1.174840\n",
              "5           270           0.030867           0.025001           1.234636"
            ],
            "text/html": [
              "\n",
              "  <div id=\"df-4b228ad6-2019-4855-99c5-1a89dee2ac4b\">\n",
              "    <div class=\"colab-df-container\">\n",
              "      <div>\n",
              "<style scoped>\n",
              "    .dataframe tbody tr th:only-of-type {\n",
              "        vertical-align: middle;\n",
              "    }\n",
              "\n",
              "    .dataframe tbody tr th {\n",
              "        vertical-align: top;\n",
              "    }\n",
              "\n",
              "    .dataframe thead th {\n",
              "        text-align: right;\n",
              "    }\n",
              "</style>\n",
              "<table border=\"1\" class=\"dataframe\">\n",
              "  <thead>\n",
              "    <tr style=\"text-align: right;\">\n",
              "      <th></th>\n",
              "      <th>product_size</th>\n",
              "      <th>preference_target</th>\n",
              "      <th>preference_others</th>\n",
              "      <th>affinity_to_brand</th>\n",
              "    </tr>\n",
              "  </thead>\n",
              "  <tbody>\n",
              "    <tr>\n",
              "      <th>18</th>\n",
              "      <td>90</td>\n",
              "      <td>0.006249</td>\n",
              "      <td>0.012772</td>\n",
              "      <td>0.489268</td>\n",
              "    </tr>\n",
              "    <tr>\n",
              "      <th>7</th>\n",
              "      <td>125</td>\n",
              "      <td>0.003219</td>\n",
              "      <td>0.006226</td>\n",
              "      <td>0.517094</td>\n",
              "    </tr>\n",
              "    <tr>\n",
              "      <th>15</th>\n",
              "      <td>200</td>\n",
              "      <td>0.012119</td>\n",
              "      <td>0.018960</td>\n",
              "      <td>0.639206</td>\n",
              "    </tr>\n",
              "    <tr>\n",
              "      <th>6</th>\n",
              "      <td>220</td>\n",
              "      <td>0.004355</td>\n",
              "      <td>0.006554</td>\n",
              "      <td>0.664517</td>\n",
              "    </tr>\n",
              "    <tr>\n",
              "      <th>11</th>\n",
              "      <td>180</td>\n",
              "      <td>0.004261</td>\n",
              "      <td>0.006241</td>\n",
              "      <td>0.682732</td>\n",
              "    </tr>\n",
              "    <tr>\n",
              "      <th>19</th>\n",
              "      <td>70</td>\n",
              "      <td>0.004545</td>\n",
              "      <td>0.006418</td>\n",
              "      <td>0.708102</td>\n",
              "    </tr>\n",
              "    <tr>\n",
              "      <th>16</th>\n",
              "      <td>160</td>\n",
              "      <td>0.009090</td>\n",
              "      <td>0.012599</td>\n",
              "      <td>0.721479</td>\n",
              "    </tr>\n",
              "    <tr>\n",
              "      <th>17</th>\n",
              "      <td>190</td>\n",
              "      <td>0.010368</td>\n",
              "      <td>0.012466</td>\n",
              "      <td>0.831665</td>\n",
              "    </tr>\n",
              "    <tr>\n",
              "      <th>12</th>\n",
              "      <td>165</td>\n",
              "      <td>0.057331</td>\n",
              "      <td>0.062162</td>\n",
              "      <td>0.922283</td>\n",
              "    </tr>\n",
              "    <tr>\n",
              "      <th>1</th>\n",
              "      <td>170</td>\n",
              "      <td>0.079724</td>\n",
              "      <td>0.081175</td>\n",
              "      <td>0.982119</td>\n",
              "    </tr>\n",
              "    <tr>\n",
              "      <th>0</th>\n",
              "      <td>175</td>\n",
              "      <td>0.269706</td>\n",
              "      <td>0.273316</td>\n",
              "      <td>0.986792</td>\n",
              "    </tr>\n",
              "    <tr>\n",
              "      <th>2</th>\n",
              "      <td>150</td>\n",
              "      <td>0.156843</td>\n",
              "      <td>0.157832</td>\n",
              "      <td>0.993736</td>\n",
              "    </tr>\n",
              "    <tr>\n",
              "      <th>14</th>\n",
              "      <td>250</td>\n",
              "      <td>0.013256</td>\n",
              "      <td>0.013037</td>\n",
              "      <td>1.016790</td>\n",
              "    </tr>\n",
              "    <tr>\n",
              "      <th>9</th>\n",
              "      <td>134</td>\n",
              "      <td>0.104625</td>\n",
              "      <td>0.101265</td>\n",
              "      <td>1.033185</td>\n",
              "    </tr>\n",
              "    <tr>\n",
              "      <th>10</th>\n",
              "      <td>380</td>\n",
              "      <td>0.028547</td>\n",
              "      <td>0.025579</td>\n",
              "      <td>1.116047</td>\n",
              "    </tr>\n",
              "    <tr>\n",
              "      <th>4</th>\n",
              "      <td>210</td>\n",
              "      <td>0.027837</td>\n",
              "      <td>0.024914</td>\n",
              "      <td>1.117328</td>\n",
              "    </tr>\n",
              "    <tr>\n",
              "      <th>13</th>\n",
              "      <td>135</td>\n",
              "      <td>0.014581</td>\n",
              "      <td>0.012980</td>\n",
              "      <td>1.123351</td>\n",
              "    </tr>\n",
              "    <tr>\n",
              "      <th>8</th>\n",
              "      <td>110</td>\n",
              "      <td>0.102495</td>\n",
              "      <td>0.089448</td>\n",
              "      <td>1.145858</td>\n",
              "    </tr>\n",
              "    <tr>\n",
              "      <th>3</th>\n",
              "      <td>330</td>\n",
              "      <td>0.059982</td>\n",
              "      <td>0.051055</td>\n",
              "      <td>1.174840</td>\n",
              "    </tr>\n",
              "    <tr>\n",
              "      <th>5</th>\n",
              "      <td>270</td>\n",
              "      <td>0.030867</td>\n",
              "      <td>0.025001</td>\n",
              "      <td>1.234636</td>\n",
              "    </tr>\n",
              "  </tbody>\n",
              "</table>\n",
              "</div>\n",
              "      <button class=\"colab-df-convert\" onclick=\"convertToInteractive('df-4b228ad6-2019-4855-99c5-1a89dee2ac4b')\"\n",
              "              title=\"Convert this dataframe to an interactive table.\"\n",
              "              style=\"display:none;\">\n",
              "        \n",
              "  <svg xmlns=\"http://www.w3.org/2000/svg\" height=\"24px\"viewBox=\"0 0 24 24\"\n",
              "       width=\"24px\">\n",
              "    <path d=\"M0 0h24v24H0V0z\" fill=\"none\"/>\n",
              "    <path d=\"M18.56 5.44l.94 2.06.94-2.06 2.06-.94-2.06-.94-.94-2.06-.94 2.06-2.06.94zm-11 1L8.5 8.5l.94-2.06 2.06-.94-2.06-.94L8.5 2.5l-.94 2.06-2.06.94zm10 10l.94 2.06.94-2.06 2.06-.94-2.06-.94-.94-2.06-.94 2.06-2.06.94z\"/><path d=\"M17.41 7.96l-1.37-1.37c-.4-.4-.92-.59-1.43-.59-.52 0-1.04.2-1.43.59L10.3 9.45l-7.72 7.72c-.78.78-.78 2.05 0 2.83L4 21.41c.39.39.9.59 1.41.59.51 0 1.02-.2 1.41-.59l7.78-7.78 2.81-2.81c.8-.78.8-2.07 0-2.86zM5.41 20L4 18.59l7.72-7.72 1.47 1.35L5.41 20z\"/>\n",
              "  </svg>\n",
              "      </button>\n",
              "      \n",
              "  <style>\n",
              "    .colab-df-container {\n",
              "      display:flex;\n",
              "      flex-wrap:wrap;\n",
              "      gap: 12px;\n",
              "    }\n",
              "\n",
              "    .colab-df-convert {\n",
              "      background-color: #E8F0FE;\n",
              "      border: none;\n",
              "      border-radius: 50%;\n",
              "      cursor: pointer;\n",
              "      display: none;\n",
              "      fill: #1967D2;\n",
              "      height: 32px;\n",
              "      padding: 0 0 0 0;\n",
              "      width: 32px;\n",
              "    }\n",
              "\n",
              "    .colab-df-convert:hover {\n",
              "      background-color: #E2EBFA;\n",
              "      box-shadow: 0px 1px 2px rgba(60, 64, 67, 0.3), 0px 1px 3px 1px rgba(60, 64, 67, 0.15);\n",
              "      fill: #174EA6;\n",
              "    }\n",
              "\n",
              "    [theme=dark] .colab-df-convert {\n",
              "      background-color: #3B4455;\n",
              "      fill: #D2E3FC;\n",
              "    }\n",
              "\n",
              "    [theme=dark] .colab-df-convert:hover {\n",
              "      background-color: #434B5C;\n",
              "      box-shadow: 0px 1px 3px 1px rgba(0, 0, 0, 0.15);\n",
              "      filter: drop-shadow(0px 1px 2px rgba(0, 0, 0, 0.3));\n",
              "      fill: #FFFFFF;\n",
              "    }\n",
              "  </style>\n",
              "\n",
              "      <script>\n",
              "        const buttonEl =\n",
              "          document.querySelector('#df-4b228ad6-2019-4855-99c5-1a89dee2ac4b button.colab-df-convert');\n",
              "        buttonEl.style.display =\n",
              "          google.colab.kernel.accessAllowed ? 'block' : 'none';\n",
              "\n",
              "        async function convertToInteractive(key) {\n",
              "          const element = document.querySelector('#df-4b228ad6-2019-4855-99c5-1a89dee2ac4b');\n",
              "          const dataTable =\n",
              "            await google.colab.kernel.invokeFunction('convertToInteractive',\n",
              "                                                     [key], {});\n",
              "          if (!dataTable) return;\n",
              "\n",
              "          const docLinkHtml = 'Like what you see? Visit the ' +\n",
              "            '<a target=\"_blank\" href=https://colab.research.google.com/notebooks/data_table.ipynb>data table notebook</a>'\n",
              "            + ' to learn more about interactive tables.';\n",
              "          element.innerHTML = '';\n",
              "          dataTable['output_type'] = 'display_data';\n",
              "          await google.colab.output.renderOutput(dataTable, element);\n",
              "          const docLink = document.createElement('div');\n",
              "          docLink.innerHTML = docLinkHtml;\n",
              "          element.appendChild(docLink);\n",
              "        }\n",
              "      </script>\n",
              "    </div>\n",
              "  </div>\n",
              "  "
            ]
          },
          "metadata": {},
          "execution_count": 124
        }
      ]
    },
    {
      "cell_type": "markdown",
      "source": [
        "- For Mainstream Midage Singles/Couples, 270g is the most preffered size, 23% higher than the others.\n",
        "- 90g is the least preffered size for them"
      ],
      "metadata": {
        "id": "vD0L0eVuJQZm"
      }
    },
    {
      "cell_type": "markdown",
      "source": [
        "- Since twisties and 270g size are preferred by both of the above segments, we'll look at who offers 270g pack sizes."
      ],
      "metadata": {
        "id": "B7Eb4w89OvjI"
      }
    },
    {
      "cell_type": "code",
      "source": [
        "purchase_transaction_df[purchase_transaction_df['product_size'] == '270']['Brand_Name'].unique()"
      ],
      "metadata": {
        "colab": {
          "base_uri": "https://localhost:8080/"
        },
        "id": "kaNeZ0cjO8p1",
        "outputId": "e642fec4-af3b-4c1f-bfa0-c6817844ab7e"
      },
      "execution_count": null,
      "outputs": [
        {
          "output_type": "execute_result",
          "data": {
            "text/plain": [
              "array(['Twisties'], dtype=object)"
            ]
          },
          "metadata": {},
          "execution_count": 130
        }
      ]
    },
    {
      "cell_type": "markdown",
      "source": [
        "- Twisties is the only brand offering 270g and is preferred by both"
      ],
      "metadata": {
        "id": "E2ZELOTQPjxm"
      }
    },
    {
      "cell_type": "markdown",
      "source": [
        "5) **Price preference for different lifestages over years**"
      ],
      "metadata": {
        "id": "aJWVPBcnJlOy"
      }
    },
    {
      "cell_type": "code",
      "source": [
        "#extracting year and month from Date\n",
        "purchase_transaction_df['Year-Month'] = purchase_transaction_df['DATE'].dt.to_period('M')\n",
        "#combining lifestage and premium customer column for vizualization purposes\n",
        "target_segments = purchase_transaction_df[((purchase_transaction_df['PREMIUM_CUSTOMER'] == 'Mainstream') &\n",
        " (purchase_transaction_df['LIFESTAGE'] == 'YOUNG SINGLES/COUPLES')) | ((purchase_transaction_df['PREMIUM_CUSTOMER'] == 'Mainstream') &\n",
        " (purchase_transaction_df['LIFESTAGE'] == 'MIDAGE SINGLES/COUPLES')) | ((purchase_transaction_df['PREMIUM_CUSTOMER'] == 'Budget') &\n",
        " (purchase_transaction_df['LIFESTAGE'] == 'OLDER FAMILIES')) | ((purchase_transaction_df['PREMIUM_CUSTOMER'] == 'Premium') &\n",
        " (purchase_transaction_df['LIFESTAGE'] == 'OLDER SINGLES/COUPLES'))]\n",
        "target_segments['target_segment'] = target_segments[['LIFESTAGE', 'PREMIUM_CUSTOMER']].agg('-'.join, axis=1)\n",
        "#checking the total sales for each lifestage by month for the years 2018 and 2019\n",
        "sales_by_month = target_segments.groupby(['target_segment','Year-Month'])['TOT_SALES'].sum().to_frame()\n",
        "sales_by_month = sales_by_month.reset_index()\n",
        "sales_by_month = sales_by_month.astype({'Year-Month': 'str'})\n",
        "sns.lineplot(data = sales_by_month, x='Year-Month', y= 'TOT_SALES', hue = sales_by_month['target_segment'])\n",
        "plt.legend(bbox_to_anchor=(1, 1))\n",
        "plt.xticks(rotation=90)"
      ],
      "metadata": {
        "colab": {
          "base_uri": "https://localhost:8080/",
          "height": 719
        },
        "id": "Is_nVEMgJqZY",
        "outputId": "bfa50bdf-7222-4afc-c14f-bf9b39d4b90c"
      },
      "execution_count": null,
      "outputs": [
        {
          "output_type": "execute_result",
          "data": {
            "text/plain": [
              "([0, 1, 2, 3, 4, 5, 6, 7, 8, 9, 10, 11],\n",
              " [Text(0, 0, '2018-07'),\n",
              "  Text(1, 0, '2018-08'),\n",
              "  Text(2, 0, '2018-09'),\n",
              "  Text(3, 0, '2018-10'),\n",
              "  Text(4, 0, '2018-11'),\n",
              "  Text(5, 0, '2018-12'),\n",
              "  Text(6, 0, '2019-01'),\n",
              "  Text(7, 0, '2019-02'),\n",
              "  Text(8, 0, '2019-03'),\n",
              "  Text(9, 0, '2019-04'),\n",
              "  Text(10, 0, '2019-05'),\n",
              "  Text(11, 0, '2019-06')])"
            ]
          },
          "metadata": {},
          "execution_count": 18
        },
        {
          "output_type": "display_data",
          "data": {
            "text/plain": [
              "<Figure size 640x480 with 1 Axes>"
            ],
            "image/png": "[encoded data removed]"
          },
          "metadata": {}
        }
      ]
    },
    {
      "cell_type": "markdown",
      "source": [
        "- There is drop in sales for all the lifestages in the month of Feb for 2019 and a subsequent increase in March. It would be worth investigating as what event triggered that fall in Feb 2019.\n"
      ],
      "metadata": {
        "id": "MmUwqCMaKjSg"
      }
    },
    {
      "cell_type": "code",
      "source": [
        "purchase_transaction_df.to_excel('transactions.xlsx', index=False)"
      ],
      "metadata": {
        "id": "mAsWpHf9q1Rt"
      },
      "execution_count": null,
      "outputs": []
    },
    {
      "cell_type": "markdown",
      "source": [
        "**Conclusions**\n",
        "\n",
        "- The customer bringing in the most sales are Mainstream young singles/couples, Mainstream retirees and Budget older families.\n",
        "- The sales numbers are proportional to the number of people in these segments so generally, the segments with higher numbers have the larger sales.\n",
        "- Mainstream young singles/couples and Mainstream midage singles/couples have the highest average sale per customer. They are more likely to have the impulsivity to buy higher priced chips.\n",
        "-  Tyrells, Doritos and Twisties are the preferred brands for Mainstream Young Singles/Couples. These brands could be placed in the areas frequented by this segment.\n",
        "- Tyrells, Doritos and Twisties are the preferred brands for Mainstream Young Singles/Couples. These brands could be placed in the areas frequented by this segment.\n",
        "- Cobs, Kettle and Twisties is the most preferred for Mainstream Midage Singles/Couples.\n",
        "- 270g pack of twisties is preferred by both Mainstream Young Singles/Couples and Midage Singles/Couples. Bundle packs or promo offers as well placing them strategically in areas of stores frequented by these two segments could be useful."
      ],
      "metadata": {
        "id": "QoWxnxbqK05q"
      }
    }
  ]
}